{
  "nbformat": 4,
  "nbformat_minor": 0,
  "metadata": {
    "colab": {
      "provenance": [],
      "mount_file_id": "1sr99GkUGkLP8VkuGY44oo5UaaNgx_3vV",
      "authorship_tag": "ABX9TyN7uP9RSaw6GOc4M9dJFQn/",
      "include_colab_link": true
    },
    "kernelspec": {
      "name": "python3",
      "display_name": "Python 3"
    },
    "language_info": {
      "name": "python"
    }
  },
  "cells": [
    {
      "cell_type": "markdown",
      "metadata": {
        "id": "view-in-github",
        "colab_type": "text"
      },
      "source": [
        "<a href=\"https://colab.research.google.com/github/premswaroopmusti/Prophaze_tasks/blob/main/Task_1.ipynb\" target=\"_parent\"><img src=\"https://colab.research.google.com/assets/colab-badge.svg\" alt=\"Open In Colab\"/></a>"
      ]
    },
    {
      "cell_type": "markdown",
      "source": [
        "### **Importing the Dependencies**"
      ],
      "metadata": {
        "id": "PDgd2jgW3O3T"
      }
    },
    {
      "cell_type": "code",
      "execution_count": null,
      "metadata": {
        "id": "b5pPPmi4a_OZ"
      },
      "outputs": [],
      "source": [
        "import pandas as pd\n",
        "import tensorflow as tf\n",
        "from sklearn.feature_extraction.text import TfidfVectorizer\n",
        "from sklearn.linear_model import LogisticRegression\n",
        "from sklearn.naive_bayes import MultinomialNB\n",
        "from sklearn.metrics import accuracy_score\n",
        "import tensorflow_hub as hub\n",
        "# !pip install --upgrade tensorflow-text\n",
        "import tensorflow_text as text\n",
        "from dateutil import parser\n",
        "from collections import Counter\n",
        "from datetime import datetime, date\n",
        "import numpy as np\n",
        "from collections import OrderedDict\n",
        "import re\n",
        "import requests\n",
        "import seaborn as sns\n",
        "import matplotlib.pyplot as plt\n",
        "from google.colab import drive"
      ]
    },
    {
      "cell_type": "markdown",
      "source": [
        "### **Data Collection & Pre-Processing**"
      ],
      "metadata": {
        "id": "YOpBeiiL3TnO"
      }
    },
    {
      "cell_type": "code",
      "source": [
        "drive.mount('/content/drive')\n",
        "data = pd.read_csv(\"/content/drive/MyDrive/Dataset/123dataset.csv\");"
      ],
      "metadata": {
        "id": "JMXiQhTVbScN",
        "colab": {
          "base_uri": "https://localhost:8080/"
        },
        "outputId": "368bdc5f-fe62-4521-c4a4-c29d0bdd8a4e"
      },
      "execution_count": null,
      "outputs": [
        {
          "output_type": "stream",
          "name": "stdout",
          "text": [
            "Drive already mounted at /content/drive; to attempt to forcibly remount, call drive.mount(\"/content/drive\", force_remount=True).\n"
          ]
        }
      ]
    },
    {
      "cell_type": "code",
      "source": [
        "timevalue_list = list(data['@timestamp'])\n",
        "request_list = list(data['request'])\n",
        "ip_address = list(data['remote_addr'])\n",
        "reffer_list = list(data['http_referrer'])\n",
        "status_list = list(data['status'])\n",
        "user_agent_list = list(data['http_user_agent'])"
      ],
      "metadata": {
        "id": "cAixDMz3bT6D"
      },
      "execution_count": null,
      "outputs": []
    },
    {
      "cell_type": "markdown",
      "source": [
        "Creating a list of bad bots"
      ],
      "metadata": {
        "id": "XxYgierx3imm"
      }
    },
    {
      "cell_type": "code",
      "source": [
        "bad_bots_keywords = ['01h4x.com', '360spider', '404checker', '404enemy', '80legs', 'admantx', 'aibot', 'alittleclient', 'aspseek', 'abonti', 'aboundex', 'aboundexbot', 'acunetix', 'adstxtcrawlertp', 'afdverbotsverfahren', 'ahrefsbot', 'aihitbot', 'aipbot', 'alexibot', 'allsubmitter', 'alligator', 'alphabot', 'anarchie', 'anarchy', 'anarchy99', 'ankit', 'anthill', 'apexoo', 'aspiegel', 'asterias', 'atomseobot', 'attach', 'awariorssbot', 'awariosmartbot', 'bbbike', 'bdcbot', 'bdfetch', 'blexbot', 'backdoorbot', 'backstreet', 'backweb', 'backlinkceck', 'backlinkcrawler', 'badass', 'bandit', 'barkrowler', 'batchftp', 'battleztarbazinga', 'betabot', 'bigfoot', 'bitacle', 'blackwidow', 'blackhole', 'blackboard', 'blow', 'blowfish', 'boardreader', 'bolt', 'botalot', 'brandprotect', 'brandwatch', 'buck', 'buddy', 'builtbottough', 'builtwith', 'bullseye', 'bunnyslippers', 'buzzsumo', 'bytespider', 'catexplorador', 'ccbot', 'code87', 'cshttp', 'calculon', 'cazoodlebot', 'cegbfeieh', 'censysinspect', 'cheteam', 'cheesebot', 'cherrypicker', 'chinaclaw', 'chlooe', 'citoid', 'claritybot', 'cliqzbot', 'cloudmapping', 'cocolyzebot', 'cogentbot', 'collector', 'copier', 'copyrightcheck', 'copyscape', 'cosmos', 'craftbot', 'crawlingathomeproject', 'crazywebcrawler', 'crescent', 'crunchbot', 'curious', 'custo', 'cyotekwebcopy', 'dblbot', 'diibot', 'dsearch', 'dtsagent', 'datacha0s', 'databasedrivermysqli', 'demon', 'deusu', 'devil', 'digincore', 'digitalpebble', 'dirbuster', 'disco', 'discobot', 'discoverybot', 'dispatch', 'dittospyder', 'dnbcrawleranalytics', 'dnyzbot', 'domcopbot', 'domainappender', 'domaincrawler', 'domainsigmacrawler', 'domainstatsbot', 'domainsproject', 'dotbot', 'downloadwonder', 'dragonfly', 'drip', 'eccp1.0', 'emailsiphon', 'emailwolf', 'easydl', 'ebingbong', 'ecxi', 'eirgrabber', 'erocrawler', 'evil', 'exabot', 'expresswebpictures', 'extlinksbot', 'extractor', 'extractorpro', 'extremepicturefinder', 'eyenetie', 'ezooms', 'fdm', 'fhscan', 'femtosearchbot', 'fimap', 'firefox7.0', 'flashget', 'flunky', 'foobot', 'freeuploader', 'frontpage', 'fuzz', 'fyberspider', 'fyrebot', 'gigabot', 'gptbot', 'gtwww', 'galaxybot', 'genieo', 'germcrawler', 'getright', 'getweb', 'getintent', 'gigabot', 'gozilla', 'goaheadgotit', 'gozilla', 'gotit', 'grabnet', 'grabber', 'grafula', 'grapefx', 'grapeshotcrawler', 'gridbot', 'headmasterseo', 'hmview', 'htmlparser', 'httplite', 'httrack', 'haansoft', 'haosouspider', 'harvest', 'havij', 'heritrix', 'hloader', 'honolulubot', 'humanlinks', 'hybridbot', 'idbte4m', 'idbot', 'irlbot', 'iblog', 'idsearch', 'ilsebot', 'imagefetch', 'imagesucker', 'indeedbot', 'indylibrary', 'infonavirobot', 'infotekies', 'intelliseek', 'interget', 'internetseer', 'internetninja', 'iria', 'iskanie', 'istellabot', 'jocwebspider', 'jamesbot', 'jbrofuzz', 'jennybot', 'jetcar', 'jetty', 'jikespider', 'joomla', 'jorgee', 'justview', 'jyxobot', 'kenjinspider', 'keybottranslationsearchmachine', 'keyworddensity', 'kinza', 'kozmosbot', 'lnspiderguy', 'lwpsimple', 'lanshanbot', 'larbin', 'leechftp', 'leechget', 'lexibot', 'lftp', 'libweb', 'libwhisker', 'liebaofast', 'lightspeedsystems', 'likse', 'linkscan', 'linkwalker', 'linkbot', 'linkextractorpro', 'linkpadbot', 'linksmanager', 'linqiametadatadownloaderbot', 'linqiarssbot', 'linqiascrapebot', 'lipperhey', 'lipperheyspider', 'litemage_walker', 'lmspider', 'ltx71', 'mfc_tear_sample', 'midowntool', 'miixpc', 'mj12bot', 'mqqbrowser', 'msfrontpage', 'msiecrawler', 'mtrobot', 'magnet', 'magnet', 'mail.ru_bot', 'majesticseo', 'majestic12', 'majesticseo', 'markmonitor', 'markwatch', 'massdownloader', 'masscan', 'matahari', 'mauibot', 'mb2345browser', 'meanpathbot', 'meanpathbot', 'mediatoolkitbot', 'megaindex.ru', 'metauri', 'micromessenger', 'microsoftdataaccess', 'microsofturlcontrol', 'minefield', 'misterpix', 'mojeek', 'mojolicious', 'molokaibot', 'morfeusfuckingscanner', 'mr.4x3', 'msrabot', 'musobot', 'nicerspro', 'npbot', 'nameintelligence', 'nameprotect', 'navroad', 'nearsite', 'needle', 'nessus', 'netants', 'netlyzer', 'netmechanic', 'netspider', 'netzip', 'netvampire', 'netcraft', 'nettrack', 'netvibes', 'nextgensearchbot', 'nibbler', 'nikibot', 'nikto', 'nimblecrawler', 'nimbostratus', 'ninja', 'nmap', 'nuclei', 'nutch', 'octopus', 'offlineexplorer', 'offlinenavigator', 'oncrawl', 'openlinkprofiler', 'openvas', 'openfind', 'openvas', 'orangebot', 'orangespider', 'outclicksbot', 'outfoxbot', 'peclhttp', 'phpcrawl', 'poecomponentclienthttp', 'pageanalyzer', 'pagegrabber', 'pagescorer', 'pagething.com', 'pageanalyzer', 'pandalytics', 'panscient', 'papafoto', 'pavuk', 'peoplepal', 'petalbot', 'pimonster', 'picscout', 'picsearch', 'picturefinder', 'piepmatz', 'pimonster', 'pixray', 'pleasecrawl', 'pockey', 'propowerbot', 'prowebwalker', 'probethenet', 'proximic', 'psbot', 'pu_in', 'pump', 'pxbroker', 'pycurl', 'querynmetasearch', 'quickcrawler', 'rssingbot', 'rankactive', 'rankactivelinkbot', 'rankflex', 'rankingbot', 'rankingbot2', 'rankivabot', 'rankurbot', 'rere', 'reget', 'realdownload', 'reaper', 'rebelmouse', 'recorder', 'redesscrapy', 'repomonkey', 'ripper', 'rocketcrawler', 'rogerbot', 'sbider', 'seokicks', 'seokicksrobot', 'seolyticscrawler', 'seoprofiler', 'seostats', 'sistrix', 'smtbot', 'salesintelligent', 'scanalert', 'scanbot', 'scoutjet', 'scrapy', 'screaming', 'screenerbot', 'screpybot', 'searchestate', 'searchmetricsbot', 'seekport', 'seekportbot', 'semanticjuice', 'semrush', 'semrushbot', 'sentibot', 'senutobot', 'seositecheckup', 'seobilitybot', 'seomoz', 'shodan', 'siphon', 'sitecheckerbotcrawler', 'siteexplorer', 'sitelockspider', 'sitesnagger', 'sitesucker', 'sitesucker', 'sitebeam', 'siteimprove', 'sitevigil', 'slysearch', 'smartdownload', 'snake', 'snapbot', 'snoopy', 'socialrankiobot', 'sociscraper', 'sogouwebspider', 'sosospider', 'sottopop', 'spacebison', 'spammen', 'spankbot', 'spanner', 'spbot', 'spinn3r', 'sputnikbot', 'sqlmap', 'sqlworm', 'sqworm', 'steeler', 'stripper', 'sucker', 'sucuri', 'superbot', 'superhttp', 'surfbot', 'surveybot', 'suzuran', 'swiftbot', 'szukacz', 't0phackteam', 't8abot', 'teleport', 'teleportpro', 'telesoft', 'telesphoreo', 'telesphorep', 'thenomad', 'theintraformant', 'thumbor', 'tighttwatbot', 'titan', 'toata', 'toweyabot', 'tracemyfile', 'trendiction', 'trendictionbot', 'true_robot', 'turingos', 'turnitin', 'turnitinbot', 'twengabot', 'twice', 'typhoeus', 'urly.warning', 'urlywarning', 'unisterbot', 'upflow', 'vbot', 'vbproject', 'vci', 'vacuum', 'vagabondo', 'velenpublicwebcrawler', 'vericitecrawler', 'vidiblescraper', 'virusdie', 'voideye', 'voil', 'voltron', 'wasalivebot', 'wbsearchbot', 'webdav', 'wisenutbot', 'wpscan', 'wwwcollectore', 'wwwmechanize', 'wwwmechanize', 'wwwoffle', 'wallpapers', 'wallpapers3.0', 'wallpapershd', 'wesee', 'webauto', 'webbandit', 'webcollage', 'webcopier', 'webenhancer', 'webfetch', 'webfuck', 'webgois', 'webimagecollector', 'webleacher', 'webpix', 'webreaper', 'websauger', 'webstripper', 'websucker', 'webwhacker', 'webzip', 'webauto', 'webcollage', 'webenhancer', 'webfetch', 'webfuck', 'webpix', 'websauger', 'websucker', 'webalta', 'webmasterworldforumbot', 'webshag', 'websiteextractor', 'websitequester', 'websitequester', 'webster', 'whack', 'whacker', 'whatweb', 'who.isbot', 'widow', 'winhttrack', 'wiseguysrobot', 'wonderbot', 'woobot', 'wotbox', 'wprecon', 'xaldonwebspider', 'xaldon_webspider', 'xenu', 'youdaobot', 'zade', 'zauba', 'zermelo', 'zeus', 'zitebot', 'zmeu', 'zoombot', 'zoominfobot', 'zumbot', 'zyborg', 'adscanner', 'archive.org_bot', 'arquivowebcrawler', 'arquivo.pt', 'autoemailspider', 'backlinkcheck', 'cah.io.community', 'check1.exe', 'clarkcrawler', 'coccocbot', 'cognitiveseo', 'com.plumanalytics', 'crawl.sogou.com', 'crawler.feedback', 'crawler4j', 'dataforseo.com', 'dataforseobot', 'demandbasebot', 'domainsproject.org', 'ecatch', 'evcbatch', 'facebookscraper', 'gopher', 'heritrix', 'instabid', 'internetvistamonitor', 'ipsagent', 'isitwp.com', 'iubendaradar', 'linkdexbot', 'lwprequest', 'lwptrivial', 'magpiecrawler', 'meanpathbot', 'mediawords', 'muhstikscan', 'netestatenecrawler', 'openai', 'openai.com', 'pagescorer', 'pcbrowser', 'plumanalytics', 'polarisversion', 'probeimagesize', 'ripz', 's1z.ru', 'satoristudio.net', 'scalajhttp', 'scan.lol', 'seobility', 'seocompany.store', 'seoscanners', 'seostar', 'serpstatbot', 'sexsearcher', 'sitechecker.pro', 'siteripz', 'sogouspider', 'sp_auditbot', 'spyfu', 'sysscan', 'takeout', 'trendiction.com', 'trendiction.de', 'ubermetricstechnologies.com', 'voyagerx.com', 'webgainsbot', 'webmeupcrawler', 'webpros.com', 'webprosbot', 'x09mozilla', 'x22mozilla', 'xpymep1.exe', 'zauba.io', 'zgrab']\n",
        "good_bots_keywords = [\"googlebot\",\"bingbot\",\"slackbot\",\"watsonassistant\",\"yahoobot\",\"duckduckBot\",\"baiduspider\",\"yandexbot\",\"exabot\",\"slurpbot\",\"facebookexternalhit\",\"applebot\",\"deepcrawl\",\"Octoparse\",\"httrack\",\"sitesucker\",\"yandexrenderresourcesbot\"]"
      ],
      "metadata": {
        "id": "CcXFh5ePbXw4"
      },
      "execution_count": null,
      "outputs": []
    },
    {
      "cell_type": "code",
      "source": [
        "bad_bots_keywords = set(bad_bots_keywords)"
      ],
      "metadata": {
        "id": "qrVLqfEjbdnP"
      },
      "execution_count": null,
      "outputs": []
    },
    {
      "cell_type": "code",
      "source": [
        "bot_list_user_agent = []\n",
        "for i in user_agent_list:\n",
        "  i = i.replace(\"  \",\"\")\n",
        "  i = i.replace(\" \",\"\")\n",
        "  if \" \" in i or \"  \" in i:\n",
        "    print(True)\n",
        "  bot_list_user_agent.append(i)\n",
        "bot_list_user_agent = [x.lower() for x in bot_list_user_agent]"
      ],
      "metadata": {
        "id": "eVagPtiebgMQ"
      },
      "execution_count": null,
      "outputs": []
    },
    {
      "cell_type": "code",
      "source": [
        "bad_source = []\n",
        "good_source = []\n",
        "for i in bot_list_user_agent:\n",
        "  for j in bad_bots_keywords:\n",
        "    if j in i:\n",
        "      bad_source.append(i)\n",
        "      break\n",
        "\n",
        "good_source = [x for x in bot_list_user_agent if x not in bad_source]\n",
        "np.unique(bad_source)"
      ],
      "metadata": {
        "id": "Sk39-uu_biyj",
        "colab": {
          "base_uri": "https://localhost:8080/"
        },
        "outputId": "f0f0f214-5337-4585-d419-c04084d8d1ac"
      },
      "execution_count": null,
      "outputs": [
        {
          "output_type": "execute_result",
          "data": {
            "text/plain": [
              "array(['alittleclient', 'anthill',\n",
              "       'awariosmartbot/1.0(+https://awario.com/bots.html;bots@awario.com)',\n",
              "       'expanse,apaloaltonetworkscompany,searchesacrosstheglobalipv4spacemultipletimesperdaytoidentifycustomers&#39;presencesontheinternet.ifyouwouldliketobeexcludedfromourscans,pleasesendipaddresses/domainsto:scaninfo@paloaltonetworks.com',\n",
              "       'mediatoolkitbot(complaints@mediatoolkit.com)',\n",
              "       'mozilla/4.5(compatible;httrack3.0x;windows98)',\n",
              "       'mozilla/5.0(compatible;ahrefsbot/7.0;+http://ahrefs.com/robot/)',\n",
              "       'mozilla/5.0(compatible;blexbot/1.0;+http://webmeup-crawler.com/)',\n",
              "       'mozilla/5.0(compatible;bytespider;spider-feedback@bytedance.com)applewebkit/537.36(khtml,likegecko)chrome/70.0.0.0safari/537.36',\n",
              "       'mozilla/5.0(compatible;censysinspect/1.1;+https://about.censys.io/)',\n",
              "       'mozilla/5.0(compatible;coccocbot-image/1.0;+http://help.coccoc.com/searchengine)',\n",
              "       'mozilla/5.0(compatible;coccocbot-web/1.0;+http://help.coccoc.com/searchengine)',\n",
              "       'mozilla/5.0(compatible;dataforseobot/1.0;+https://dataforseo.com/dataforseo-bot)',\n",
              "       'mozilla/5.0(compatible;dotbot/1.2;+https://opensiteexplorer.org/dotbot;help@moz.com)',\n",
              "       'mozilla/5.0(compatible;grapeshotcrawler/2.0;+http://www.grapeshot.co.uk/crawler.php)',\n",
              "       'mozilla/5.0(compatible;linkdexbot/2.0;+http://www.linkdex.com/bots/)',\n",
              "       'mozilla/5.0(compatible;mj12bot/v1.4.8;http://mj12bot.com/)',\n",
              "       'mozilla/5.0(compatible;mojeekbot/0.11;+https://www.mojeek.com/bot.html)',\n",
              "       'mozilla/5.0(compatible;msie10.0;windowsnt6.1;trident/6.0)linkcheckbysiteimprove.com',\n",
              "       'mozilla/5.0(compatible;netcraftsurveyagent/1.0;+info@netcraft.com)',\n",
              "       'mozilla/5.0(compatible;petalbot;+https://webmaster.petalsearch.com/site/petalbot)',\n",
              "       'mozilla/5.0(compatible;seekportbot;+https://bot.seekport.com)',\n",
              "       'mozilla/5.0(compatible;semrushbot-ba;+http://www.semrush.com/bot.html)',\n",
              "       'mozilla/5.0(compatible;semrushbot-si/0.97;+http://www.semrush.com/bot.html)',\n",
              "       'mozilla/5.0(compatible;semrushbot/7~bl;+http://www.semrush.com/bot.html)',\n",
              "       'mozilla/5.0(compatible;siteauditbot/0.97;+http://www.semrush.com/bot.html)',\n",
              "       'mozilla/5.0(compatible;velenpublicwebcrawler/1.0;+https://velen.io)',\n",
              "       'mozilla/5.0(iphone;cpuiphoneos10_2_1likemacosx)applewebkit/602.4.6(khtml,likegecko)mobile/14d27micromessenger/6.5.5nettype/wifilanguage/zh_cn',\n",
              "       'mozilla/5.0(iphone;cpuiphoneos6_0likemacosx)applewebkit/536.26(khtml,likegecko)version/6.0mobile/10a5376esafari/8536.25(compatible;siteauditbot/0.97;+http://www.semrush.com/bot.html)',\n",
              "       'mozilla/5.0(linux;android12;stg-al00build/huaweistg-al00;wv)applewebkit/537.36(khtml,likegecko)version/4.0chrome/107.0.5304.141mobilesafari/537.36xweb/5127mmwebsdk/20230504mmwebid/4186micromessenger/8.0.37.2380(0x2800255b)wechat/arm64weixinnettype/wifilanguage/zh_cnabi/arm64qcloudcdn-xinanrequest-source=4request-channel=99',\n",
              "       'mozilla/5.0(linux;android13;m2007j1scbuild/tkq1.221114.001;wv)applewebkit/537.36(khtml,likegecko)version/4.0chrome/107.0.5304.141mobilesafari/537.36xweb/5127mmwebsdk/20230405mmwebid/1151micromessenger/8.0.35.2360(0x2800235d)wechat/arm64weixinnettype/wifilanguage/zh_cnabi/arm64qcloudcdn-xinanrequest-source=4request-channel=99',\n",
              "       'mozilla/5.0(linux;android5.0)applewebkit/537.36(khtml,likegecko)mobilesafari/537.36(compatible;bytespider;https://zhanzhang.toutiao.com/)',\n",
              "       'mozilla/5.0(linux;android5.0)applewebkit/537.36(khtml,likegecko)mobilesafari/537.36(compatible;bytespider;spider-feedback@bytedance.com)',\n",
              "       'mozilla/5.0(linux;android7.0;)applewebkit/537.36(khtml,likegecko)mobilesafari/537.36(compatible;petalbot;+https://webmaster.petalsearch.com/site/petalbot)',\n",
              "       'mozilla/5.0(linux;android9;col-al10build/huaweicol-al10;wv)applewebkit/537.36(khtml,likegecko)version/4.0chrome/66.0.3359.126mqqbrowser/6.2tbs/044607mobilesafari/537.36mmwebid/7140micromessenger/7.0.4.1420(0x27000437)process/toolsnettype/4glanguage/zh_cn',\n",
              "       'mozilla/5.0(windows;u;windowsnt5.1;en-us;bolt/2.340)applewebkit/530+(khtml,likegecko)version/4.0safari/530.17untrusted/1.03gpp-gbauntrusted/1.0',\n",
              "       'mozilla/5.0(x11;linuxi686(x86_64);rv:2.0b4pre)gecko/20100812minefield/4.0b4pre',\n",
              "       'mozilla/5.0(x11;u;linuxi686;en-us;rv:1.9a1)gecko/20070308minefield/3.0a1',\n",
              "       'mozilla/5.0zgrab/0.x', 'screamingfrogseospider/16.7',\n",
              "       'screamingfrogseospider/19.0', 'screamingfrogseospider/19.1',\n",
              "       'sogouwebspider/4.0(+http://www.sogou.com/docs/help/webmasters.htm#07)',\n",
              "       'webprosbot/2.0(+mailto:abuse-6337@webpros.com)',\n",
              "       'zoombot(linkbot1.0http://suite.seozoom.it/bot.html)'],\n",
              "      dtype='<U326')"
            ]
          },
          "metadata": {},
          "execution_count": 49
        }
      ]
    },
    {
      "cell_type": "code",
      "source": [
        "list123 = ['mozilla/5.0(iphone;cpuiphoneos6_0likemacosx)applewebkit/536.26(khtml,likegecko)version/6.0mobile/10a5376esafari/8536.25(compatible;siteauditbot/0.97;+http://www.semrush.com/bot.html)',\n",
        "\n",
        "\n",
        "\n",
        "'mozilla/5.0(linux;android13;m2007j1scbuild/tkq1.221114.001;wv)applewebkit/537.36(khtml,likegecko)version/4.0chrome/107.0.5304.141mobilesafari/537.36xweb/5127mmwebsdk/20230405mmwebid/1151micromessenger/8.0.35.2360(0x2800235d)wechat/arm64weixinnettype/wifilanguage/zh_cnabi/arm64qcloudcdn-xinanrequest-source=4request-channel=99',\n",
        "\n",
        "\n",
        "       'mozilla/5.0(windows;u;windowsnt5.1;en-us;bolt/2.340)applewebkit/530+(khtml,likegecko)version/4.0safari/530.17untrusted/1.03gpp-gbauntrusted/1.0',\n",
        "\n",
        "'mozilla/5.0+(compatible;uptimerobot/2.0;http://www.uptimerobot.com/)',\n",
        "\n",
        "       'mozilla/5.0zgrab/0.x',\n",
        "\n",
        "'screamingfrogseospider/16.7',\n",
        "\n",
        "       'screamingfrogseospider/19.0', 'screamingfrogseospider/19.1',\n",
        "\n",
        "       'slack-imgproxy(+https://api.slack.com/robots)',\n",
        "\n",
        "       'slackbot-linkexpanding1.0(+https://api.slack.com/robots)',\n",
        "\n",
        "       'slackbot1.0(+https://api.slack.com/robots)']\n",
        "for i in list123:\n",
        "  for j in bad_bots_keywords:\n",
        "    if j in i:\n",
        "      print(j)\n",
        "      bad_source.append(i)\n",
        "      break"
      ],
      "metadata": {
        "id": "Lk5X2Uz4bmbr",
        "colab": {
          "base_uri": "https://localhost:8080/"
        },
        "outputId": "15f79d5c-9354-4e54-8040-acc4853f434c"
      },
      "execution_count": null,
      "outputs": [
        {
          "output_type": "stream",
          "name": "stdout",
          "text": [
            "semrush\n",
            "micromessenger\n",
            "bolt\n",
            "zgrab\n",
            "screaming\n",
            "screaming\n",
            "screaming\n"
          ]
        }
      ]
    },
    {
      "cell_type": "code",
      "source": [
        "data1 = {}\n",
        "data1['user_agents'] = bad_source\n",
        "data1['traffic'] = [\"Bad\"] * len(bad_source)\n",
        "\n",
        "data2 = {}\n",
        "data2['user_agents'] = good_source\n",
        "data2['traffic'] = [\"Good\"] * len(good_source)"
      ],
      "metadata": {
        "id": "IP0XZ1rcbmYw"
      },
      "execution_count": null,
      "outputs": []
    },
    {
      "cell_type": "code",
      "source": [
        "df1 = pd.DataFrame(data1)\n",
        "df2 = pd.DataFrame(data2)"
      ],
      "metadata": {
        "id": "DmKp2DhLbmWx"
      },
      "execution_count": null,
      "outputs": []
    },
    {
      "cell_type": "code",
      "source": [
        "df = df1.append(df2, ignore_index=True)"
      ],
      "metadata": {
        "id": "hWFBy176bmVO",
        "colab": {
          "base_uri": "https://localhost:8080/"
        },
        "outputId": "c28afa12-e8b1-41d3-9740-31e990878119"
      },
      "execution_count": null,
      "outputs": [
        {
          "output_type": "stream",
          "name": "stderr",
          "text": [
            "<ipython-input-53-66f99341a515>:1: FutureWarning: The frame.append method is deprecated and will be removed from pandas in a future version. Use pandas.concat instead.\n",
            "  df = df1.append(df2, ignore_index=True)\n"
          ]
        }
      ]
    },
    {
      "cell_type": "code",
      "source": [
        "df"
      ],
      "metadata": {
        "id": "-UqDY2cFbmOC",
        "colab": {
          "base_uri": "https://localhost:8080/",
          "height": 423
        },
        "outputId": "d7a10187-23a0-4d46-f1ae-4549355d892a"
      },
      "execution_count": null,
      "outputs": [
        {
          "output_type": "execute_result",
          "data": {
            "text/plain": [
              "                                              user_agents traffic\n",
              "0       mozilla/5.0(linux;android7.0;)applewebkit/537....     Bad\n",
              "1       mozilla/5.0(linux;android7.0;)applewebkit/537....     Bad\n",
              "2       mozilla/5.0(compatible;dotbot/1.2;+https://ope...     Bad\n",
              "3       mozilla/5.0(linux;android7.0;)applewebkit/537....     Bad\n",
              "4       mozilla/5.0(compatible;dotbot/1.2;+https://ope...     Bad\n",
              "...                                                   ...     ...\n",
              "129402  mozilla/5.0(windowsnt10.0;win64;x64)applewebki...    Good\n",
              "129403  mozilla/5.0(windowsnt10.0;win64;x64)applewebki...    Good\n",
              "129404                                 bunnyoptimizer-v01    Good\n",
              "129405  mozilla/5.0(windowsnt10.0;win64;x64)applewebki...    Good\n",
              "129406  mozilla/5.0(windowsnt10.0;win64;x64)applewebki...    Good\n",
              "\n",
              "[129407 rows x 2 columns]"
            ],
            "text/html": [
              "\n",
              "  <div id=\"df-29cf778e-1004-44b5-9b22-1d031ed8c68a\" class=\"colab-df-container\">\n",
              "    <div>\n",
              "<style scoped>\n",
              "    .dataframe tbody tr th:only-of-type {\n",
              "        vertical-align: middle;\n",
              "    }\n",
              "\n",
              "    .dataframe tbody tr th {\n",
              "        vertical-align: top;\n",
              "    }\n",
              "\n",
              "    .dataframe thead th {\n",
              "        text-align: right;\n",
              "    }\n",
              "</style>\n",
              "<table border=\"1\" class=\"dataframe\">\n",
              "  <thead>\n",
              "    <tr style=\"text-align: right;\">\n",
              "      <th></th>\n",
              "      <th>user_agents</th>\n",
              "      <th>traffic</th>\n",
              "    </tr>\n",
              "  </thead>\n",
              "  <tbody>\n",
              "    <tr>\n",
              "      <th>0</th>\n",
              "      <td>mozilla/5.0(linux;android7.0;)applewebkit/537....</td>\n",
              "      <td>Bad</td>\n",
              "    </tr>\n",
              "    <tr>\n",
              "      <th>1</th>\n",
              "      <td>mozilla/5.0(linux;android7.0;)applewebkit/537....</td>\n",
              "      <td>Bad</td>\n",
              "    </tr>\n",
              "    <tr>\n",
              "      <th>2</th>\n",
              "      <td>mozilla/5.0(compatible;dotbot/1.2;+https://ope...</td>\n",
              "      <td>Bad</td>\n",
              "    </tr>\n",
              "    <tr>\n",
              "      <th>3</th>\n",
              "      <td>mozilla/5.0(linux;android7.0;)applewebkit/537....</td>\n",
              "      <td>Bad</td>\n",
              "    </tr>\n",
              "    <tr>\n",
              "      <th>4</th>\n",
              "      <td>mozilla/5.0(compatible;dotbot/1.2;+https://ope...</td>\n",
              "      <td>Bad</td>\n",
              "    </tr>\n",
              "    <tr>\n",
              "      <th>...</th>\n",
              "      <td>...</td>\n",
              "      <td>...</td>\n",
              "    </tr>\n",
              "    <tr>\n",
              "      <th>129402</th>\n",
              "      <td>mozilla/5.0(windowsnt10.0;win64;x64)applewebki...</td>\n",
              "      <td>Good</td>\n",
              "    </tr>\n",
              "    <tr>\n",
              "      <th>129403</th>\n",
              "      <td>mozilla/5.0(windowsnt10.0;win64;x64)applewebki...</td>\n",
              "      <td>Good</td>\n",
              "    </tr>\n",
              "    <tr>\n",
              "      <th>129404</th>\n",
              "      <td>bunnyoptimizer-v01</td>\n",
              "      <td>Good</td>\n",
              "    </tr>\n",
              "    <tr>\n",
              "      <th>129405</th>\n",
              "      <td>mozilla/5.0(windowsnt10.0;win64;x64)applewebki...</td>\n",
              "      <td>Good</td>\n",
              "    </tr>\n",
              "    <tr>\n",
              "      <th>129406</th>\n",
              "      <td>mozilla/5.0(windowsnt10.0;win64;x64)applewebki...</td>\n",
              "      <td>Good</td>\n",
              "    </tr>\n",
              "  </tbody>\n",
              "</table>\n",
              "<p>129407 rows × 2 columns</p>\n",
              "</div>\n",
              "    <div class=\"colab-df-buttons\">\n",
              "\n",
              "  <div class=\"colab-df-container\">\n",
              "    <button class=\"colab-df-convert\" onclick=\"convertToInteractive('df-29cf778e-1004-44b5-9b22-1d031ed8c68a')\"\n",
              "            title=\"Convert this dataframe to an interactive table.\"\n",
              "            style=\"display:none;\">\n",
              "\n",
              "  <svg xmlns=\"http://www.w3.org/2000/svg\" height=\"24px\" viewBox=\"0 -960 960 960\">\n",
              "    <path d=\"M120-120v-720h720v720H120Zm60-500h600v-160H180v160Zm220 220h160v-160H400v160Zm0 220h160v-160H400v160ZM180-400h160v-160H180v160Zm440 0h160v-160H620v160ZM180-180h160v-160H180v160Zm440 0h160v-160H620v160Z\"/>\n",
              "  </svg>\n",
              "    </button>\n",
              "\n",
              "  <style>\n",
              "    .colab-df-container {\n",
              "      display:flex;\n",
              "      gap: 12px;\n",
              "    }\n",
              "\n",
              "    .colab-df-convert {\n",
              "      background-color: #E8F0FE;\n",
              "      border: none;\n",
              "      border-radius: 50%;\n",
              "      cursor: pointer;\n",
              "      display: none;\n",
              "      fill: #1967D2;\n",
              "      height: 32px;\n",
              "      padding: 0 0 0 0;\n",
              "      width: 32px;\n",
              "    }\n",
              "\n",
              "    .colab-df-convert:hover {\n",
              "      background-color: #E2EBFA;\n",
              "      box-shadow: 0px 1px 2px rgba(60, 64, 67, 0.3), 0px 1px 3px 1px rgba(60, 64, 67, 0.15);\n",
              "      fill: #174EA6;\n",
              "    }\n",
              "\n",
              "    .colab-df-buttons div {\n",
              "      margin-bottom: 4px;\n",
              "    }\n",
              "\n",
              "    [theme=dark] .colab-df-convert {\n",
              "      background-color: #3B4455;\n",
              "      fill: #D2E3FC;\n",
              "    }\n",
              "\n",
              "    [theme=dark] .colab-df-convert:hover {\n",
              "      background-color: #434B5C;\n",
              "      box-shadow: 0px 1px 3px 1px rgba(0, 0, 0, 0.15);\n",
              "      filter: drop-shadow(0px 1px 2px rgba(0, 0, 0, 0.3));\n",
              "      fill: #FFFFFF;\n",
              "    }\n",
              "  </style>\n",
              "\n",
              "    <script>\n",
              "      const buttonEl =\n",
              "        document.querySelector('#df-29cf778e-1004-44b5-9b22-1d031ed8c68a button.colab-df-convert');\n",
              "      buttonEl.style.display =\n",
              "        google.colab.kernel.accessAllowed ? 'block' : 'none';\n",
              "\n",
              "      async function convertToInteractive(key) {\n",
              "        const element = document.querySelector('#df-29cf778e-1004-44b5-9b22-1d031ed8c68a');\n",
              "        const dataTable =\n",
              "          await google.colab.kernel.invokeFunction('convertToInteractive',\n",
              "                                                    [key], {});\n",
              "        if (!dataTable) return;\n",
              "\n",
              "        const docLinkHtml = 'Like what you see? Visit the ' +\n",
              "          '<a target=\"_blank\" href=https://colab.research.google.com/notebooks/data_table.ipynb>data table notebook</a>'\n",
              "          + ' to learn more about interactive tables.';\n",
              "        element.innerHTML = '';\n",
              "        dataTable['output_type'] = 'display_data';\n",
              "        await google.colab.output.renderOutput(dataTable, element);\n",
              "        const docLink = document.createElement('div');\n",
              "        docLink.innerHTML = docLinkHtml;\n",
              "        element.appendChild(docLink);\n",
              "      }\n",
              "    </script>\n",
              "  </div>\n",
              "\n",
              "\n",
              "<div id=\"df-457ca58b-60d9-4b4a-b0e3-6724cfc1ecbf\">\n",
              "  <button class=\"colab-df-quickchart\" onclick=\"quickchart('df-457ca58b-60d9-4b4a-b0e3-6724cfc1ecbf')\"\n",
              "            title=\"Suggest charts.\"\n",
              "            style=\"display:none;\">\n",
              "\n",
              "<svg xmlns=\"http://www.w3.org/2000/svg\" height=\"24px\"viewBox=\"0 0 24 24\"\n",
              "     width=\"24px\">\n",
              "    <g>\n",
              "        <path d=\"M19 3H5c-1.1 0-2 .9-2 2v14c0 1.1.9 2 2 2h14c1.1 0 2-.9 2-2V5c0-1.1-.9-2-2-2zM9 17H7v-7h2v7zm4 0h-2V7h2v10zm4 0h-2v-4h2v4z\"/>\n",
              "    </g>\n",
              "</svg>\n",
              "  </button>\n",
              "\n",
              "<style>\n",
              "  .colab-df-quickchart {\n",
              "    background-color: #E8F0FE;\n",
              "    border: none;\n",
              "    border-radius: 50%;\n",
              "    cursor: pointer;\n",
              "    display: none;\n",
              "    fill: #1967D2;\n",
              "    height: 32px;\n",
              "    padding: 0 0 0 0;\n",
              "    width: 32px;\n",
              "  }\n",
              "\n",
              "  .colab-df-quickchart:hover {\n",
              "    background-color: #E2EBFA;\n",
              "    box-shadow: 0px 1px 2px rgba(60, 64, 67, 0.3), 0px 1px 3px 1px rgba(60, 64, 67, 0.15);\n",
              "    fill: #174EA6;\n",
              "  }\n",
              "\n",
              "  [theme=dark] .colab-df-quickchart {\n",
              "    background-color: #3B4455;\n",
              "    fill: #D2E3FC;\n",
              "  }\n",
              "\n",
              "  [theme=dark] .colab-df-quickchart:hover {\n",
              "    background-color: #434B5C;\n",
              "    box-shadow: 0px 1px 3px 1px rgba(0, 0, 0, 0.15);\n",
              "    filter: drop-shadow(0px 1px 2px rgba(0, 0, 0, 0.3));\n",
              "    fill: #FFFFFF;\n",
              "  }\n",
              "</style>\n",
              "\n",
              "  <script>\n",
              "    async function quickchart(key) {\n",
              "      const charts = await google.colab.kernel.invokeFunction(\n",
              "          'suggestCharts', [key], {});\n",
              "    }\n",
              "    (() => {\n",
              "      let quickchartButtonEl =\n",
              "        document.querySelector('#df-457ca58b-60d9-4b4a-b0e3-6724cfc1ecbf button');\n",
              "      quickchartButtonEl.style.display =\n",
              "        google.colab.kernel.accessAllowed ? 'block' : 'none';\n",
              "    })();\n",
              "  </script>\n",
              "</div>\n",
              "    </div>\n",
              "  </div>\n"
            ]
          },
          "metadata": {},
          "execution_count": 54
        }
      ]
    },
    {
      "cell_type": "code",
      "source": [
        "df.groupby('traffic').describe()\n"
      ],
      "metadata": {
        "id": "B4Ban27qbmGA",
        "colab": {
          "base_uri": "https://localhost:8080/",
          "height": 192
        },
        "outputId": "cb27a332-528b-402f-8d22-3e8662f8e586"
      },
      "execution_count": null,
      "outputs": [
        {
          "output_type": "execute_result",
          "data": {
            "text/plain": [
              "        user_agents                                                            \\\n",
              "              count unique                                                top   \n",
              "traffic                                                                         \n",
              "Bad           13729     45  mozilla/5.0(compatible;velenpublicwebcrawler/1...   \n",
              "Good         115678   1086                                               none   \n",
              "\n",
              "                \n",
              "          freq  \n",
              "traffic         \n",
              "Bad       4868  \n",
              "Good     21099  "
            ],
            "text/html": [
              "\n",
              "  <div id=\"df-9c63785c-191e-4fad-8219-b62ef95118b5\" class=\"colab-df-container\">\n",
              "    <div>\n",
              "<style scoped>\n",
              "    .dataframe tbody tr th:only-of-type {\n",
              "        vertical-align: middle;\n",
              "    }\n",
              "\n",
              "    .dataframe tbody tr th {\n",
              "        vertical-align: top;\n",
              "    }\n",
              "\n",
              "    .dataframe thead tr th {\n",
              "        text-align: left;\n",
              "    }\n",
              "\n",
              "    .dataframe thead tr:last-of-type th {\n",
              "        text-align: right;\n",
              "    }\n",
              "</style>\n",
              "<table border=\"1\" class=\"dataframe\">\n",
              "  <thead>\n",
              "    <tr>\n",
              "      <th></th>\n",
              "      <th colspan=\"4\" halign=\"left\">user_agents</th>\n",
              "    </tr>\n",
              "    <tr>\n",
              "      <th></th>\n",
              "      <th>count</th>\n",
              "      <th>unique</th>\n",
              "      <th>top</th>\n",
              "      <th>freq</th>\n",
              "    </tr>\n",
              "    <tr>\n",
              "      <th>traffic</th>\n",
              "      <th></th>\n",
              "      <th></th>\n",
              "      <th></th>\n",
              "      <th></th>\n",
              "    </tr>\n",
              "  </thead>\n",
              "  <tbody>\n",
              "    <tr>\n",
              "      <th>Bad</th>\n",
              "      <td>13729</td>\n",
              "      <td>45</td>\n",
              "      <td>mozilla/5.0(compatible;velenpublicwebcrawler/1...</td>\n",
              "      <td>4868</td>\n",
              "    </tr>\n",
              "    <tr>\n",
              "      <th>Good</th>\n",
              "      <td>115678</td>\n",
              "      <td>1086</td>\n",
              "      <td>none</td>\n",
              "      <td>21099</td>\n",
              "    </tr>\n",
              "  </tbody>\n",
              "</table>\n",
              "</div>\n",
              "    <div class=\"colab-df-buttons\">\n",
              "\n",
              "  <div class=\"colab-df-container\">\n",
              "    <button class=\"colab-df-convert\" onclick=\"convertToInteractive('df-9c63785c-191e-4fad-8219-b62ef95118b5')\"\n",
              "            title=\"Convert this dataframe to an interactive table.\"\n",
              "            style=\"display:none;\">\n",
              "\n",
              "  <svg xmlns=\"http://www.w3.org/2000/svg\" height=\"24px\" viewBox=\"0 -960 960 960\">\n",
              "    <path d=\"M120-120v-720h720v720H120Zm60-500h600v-160H180v160Zm220 220h160v-160H400v160Zm0 220h160v-160H400v160ZM180-400h160v-160H180v160Zm440 0h160v-160H620v160ZM180-180h160v-160H180v160Zm440 0h160v-160H620v160Z\"/>\n",
              "  </svg>\n",
              "    </button>\n",
              "\n",
              "  <style>\n",
              "    .colab-df-container {\n",
              "      display:flex;\n",
              "      gap: 12px;\n",
              "    }\n",
              "\n",
              "    .colab-df-convert {\n",
              "      background-color: #E8F0FE;\n",
              "      border: none;\n",
              "      border-radius: 50%;\n",
              "      cursor: pointer;\n",
              "      display: none;\n",
              "      fill: #1967D2;\n",
              "      height: 32px;\n",
              "      padding: 0 0 0 0;\n",
              "      width: 32px;\n",
              "    }\n",
              "\n",
              "    .colab-df-convert:hover {\n",
              "      background-color: #E2EBFA;\n",
              "      box-shadow: 0px 1px 2px rgba(60, 64, 67, 0.3), 0px 1px 3px 1px rgba(60, 64, 67, 0.15);\n",
              "      fill: #174EA6;\n",
              "    }\n",
              "\n",
              "    .colab-df-buttons div {\n",
              "      margin-bottom: 4px;\n",
              "    }\n",
              "\n",
              "    [theme=dark] .colab-df-convert {\n",
              "      background-color: #3B4455;\n",
              "      fill: #D2E3FC;\n",
              "    }\n",
              "\n",
              "    [theme=dark] .colab-df-convert:hover {\n",
              "      background-color: #434B5C;\n",
              "      box-shadow: 0px 1px 3px 1px rgba(0, 0, 0, 0.15);\n",
              "      filter: drop-shadow(0px 1px 2px rgba(0, 0, 0, 0.3));\n",
              "      fill: #FFFFFF;\n",
              "    }\n",
              "  </style>\n",
              "\n",
              "    <script>\n",
              "      const buttonEl =\n",
              "        document.querySelector('#df-9c63785c-191e-4fad-8219-b62ef95118b5 button.colab-df-convert');\n",
              "      buttonEl.style.display =\n",
              "        google.colab.kernel.accessAllowed ? 'block' : 'none';\n",
              "\n",
              "      async function convertToInteractive(key) {\n",
              "        const element = document.querySelector('#df-9c63785c-191e-4fad-8219-b62ef95118b5');\n",
              "        const dataTable =\n",
              "          await google.colab.kernel.invokeFunction('convertToInteractive',\n",
              "                                                    [key], {});\n",
              "        if (!dataTable) return;\n",
              "\n",
              "        const docLinkHtml = 'Like what you see? Visit the ' +\n",
              "          '<a target=\"_blank\" href=https://colab.research.google.com/notebooks/data_table.ipynb>data table notebook</a>'\n",
              "          + ' to learn more about interactive tables.';\n",
              "        element.innerHTML = '';\n",
              "        dataTable['output_type'] = 'display_data';\n",
              "        await google.colab.output.renderOutput(dataTable, element);\n",
              "        const docLink = document.createElement('div');\n",
              "        docLink.innerHTML = docLinkHtml;\n",
              "        element.appendChild(docLink);\n",
              "      }\n",
              "    </script>\n",
              "  </div>\n",
              "\n",
              "\n",
              "<div id=\"df-c5910eb4-69f5-4726-8d18-ebfbad4a1664\">\n",
              "  <button class=\"colab-df-quickchart\" onclick=\"quickchart('df-c5910eb4-69f5-4726-8d18-ebfbad4a1664')\"\n",
              "            title=\"Suggest charts.\"\n",
              "            style=\"display:none;\">\n",
              "\n",
              "<svg xmlns=\"http://www.w3.org/2000/svg\" height=\"24px\"viewBox=\"0 0 24 24\"\n",
              "     width=\"24px\">\n",
              "    <g>\n",
              "        <path d=\"M19 3H5c-1.1 0-2 .9-2 2v14c0 1.1.9 2 2 2h14c1.1 0 2-.9 2-2V5c0-1.1-.9-2-2-2zM9 17H7v-7h2v7zm4 0h-2V7h2v10zm4 0h-2v-4h2v4z\"/>\n",
              "    </g>\n",
              "</svg>\n",
              "  </button>\n",
              "\n",
              "<style>\n",
              "  .colab-df-quickchart {\n",
              "    background-color: #E8F0FE;\n",
              "    border: none;\n",
              "    border-radius: 50%;\n",
              "    cursor: pointer;\n",
              "    display: none;\n",
              "    fill: #1967D2;\n",
              "    height: 32px;\n",
              "    padding: 0 0 0 0;\n",
              "    width: 32px;\n",
              "  }\n",
              "\n",
              "  .colab-df-quickchart:hover {\n",
              "    background-color: #E2EBFA;\n",
              "    box-shadow: 0px 1px 2px rgba(60, 64, 67, 0.3), 0px 1px 3px 1px rgba(60, 64, 67, 0.15);\n",
              "    fill: #174EA6;\n",
              "  }\n",
              "\n",
              "  [theme=dark] .colab-df-quickchart {\n",
              "    background-color: #3B4455;\n",
              "    fill: #D2E3FC;\n",
              "  }\n",
              "\n",
              "  [theme=dark] .colab-df-quickchart:hover {\n",
              "    background-color: #434B5C;\n",
              "    box-shadow: 0px 1px 3px 1px rgba(0, 0, 0, 0.15);\n",
              "    filter: drop-shadow(0px 1px 2px rgba(0, 0, 0, 0.3));\n",
              "    fill: #FFFFFF;\n",
              "  }\n",
              "</style>\n",
              "\n",
              "  <script>\n",
              "    async function quickchart(key) {\n",
              "      const charts = await google.colab.kernel.invokeFunction(\n",
              "          'suggestCharts', [key], {});\n",
              "    }\n",
              "    (() => {\n",
              "      let quickchartButtonEl =\n",
              "        document.querySelector('#df-c5910eb4-69f5-4726-8d18-ebfbad4a1664 button');\n",
              "      quickchartButtonEl.style.display =\n",
              "        google.colab.kernel.accessAllowed ? 'block' : 'none';\n",
              "    })();\n",
              "  </script>\n",
              "</div>\n",
              "    </div>\n",
              "  </div>\n"
            ]
          },
          "metadata": {},
          "execution_count": 55
        },
        {
          "output_type": "stream",
          "name": "stdout",
          "text": [
            "Error: Runtime no longer has a reference to this dataframe, please re-run this cell and try again.\n"
          ]
        }
      ]
    },
    {
      "cell_type": "code",
      "source": [
        "13729/115678\n",
        "\n",
        "# so 12% is bad traffic and 88% is good traffic\n",
        "# so definitely an imbalance in the dataset"
      ],
      "metadata": {
        "id": "PVczlKIDbmC-",
        "colab": {
          "base_uri": "https://localhost:8080/"
        },
        "outputId": "1f4bb9d1-6ca8-4a26-b5c8-92da94969bea"
      },
      "execution_count": null,
      "outputs": [
        {
          "output_type": "execute_result",
          "data": {
            "text/plain": [
              "0.11868289562405988"
            ]
          },
          "metadata": {},
          "execution_count": 57
        }
      ]
    },
    {
      "cell_type": "code",
      "source": [
        "# missing values\n",
        "df.isnull().sum()"
      ],
      "metadata": {
        "id": "8Qg3jv4Tord9",
        "colab": {
          "base_uri": "https://localhost:8080/"
        },
        "outputId": "5bf6e417-7eff-4006-a8e7-5b50b3e848e8"
      },
      "execution_count": null,
      "outputs": [
        {
          "output_type": "execute_result",
          "data": {
            "text/plain": [
              "user_agents    0\n",
              "traffic        0\n",
              "dtype: int64"
            ]
          },
          "metadata": {},
          "execution_count": 56
        }
      ]
    },
    {
      "cell_type": "markdown",
      "source": [
        "We will use a technique called Down-Sampling to balance the dataset\n",
        "\n",
        "So we will pick any random 13729 samples from 115678 good traffic & we will discard remaining good traffic\n",
        "\n",
        "In this way we will be having equal amount of good traffic and bad traffic"
      ],
      "metadata": {
        "id": "gIcK_D7icJYU"
      }
    },
    {
      "cell_type": "code",
      "source": [
        "df_bad = df[df['traffic'] == 'Bad']\n",
        "df_bad.shape"
      ],
      "metadata": {
        "id": "ZSWQn44acKTW",
        "colab": {
          "base_uri": "https://localhost:8080/"
        },
        "outputId": "c28ea75f-b4ab-48c5-f9ab-eae099f00c10"
      },
      "execution_count": null,
      "outputs": [
        {
          "output_type": "execute_result",
          "data": {
            "text/plain": [
              "(13729, 2)"
            ]
          },
          "metadata": {},
          "execution_count": 58
        }
      ]
    },
    {
      "cell_type": "code",
      "source": [
        "df_good = df[df['traffic'] == 'Good']\n",
        "df_good.shape"
      ],
      "metadata": {
        "id": "0rPQhV_KcMfM",
        "colab": {
          "base_uri": "https://localhost:8080/"
        },
        "outputId": "65500cad-ea48-4f8d-a28d-613dcef96974"
      },
      "execution_count": null,
      "outputs": [
        {
          "output_type": "execute_result",
          "data": {
            "text/plain": [
              "(115678, 2)"
            ]
          },
          "metadata": {},
          "execution_count": 59
        }
      ]
    },
    {
      "cell_type": "code",
      "source": [
        "df_good.sample(2)"
      ],
      "metadata": {
        "id": "2me6DpflcPAM",
        "colab": {
          "base_uri": "https://localhost:8080/",
          "height": 112
        },
        "outputId": "c625930e-bef0-44af-c0e5-0c5042ac2d5d"
      },
      "execution_count": null,
      "outputs": [
        {
          "output_type": "execute_result",
          "data": {
            "text/plain": [
              "                                             user_agents traffic\n",
              "61664  mozilla/5.0applewebkit/537.36(khtml,likegecko;...    Good\n",
              "24153                                 bunnyoptimizer-v01    Good"
            ],
            "text/html": [
              "\n",
              "  <div id=\"df-6fa9cba8-5b12-471f-b559-f94a4bbd73d0\" class=\"colab-df-container\">\n",
              "    <div>\n",
              "<style scoped>\n",
              "    .dataframe tbody tr th:only-of-type {\n",
              "        vertical-align: middle;\n",
              "    }\n",
              "\n",
              "    .dataframe tbody tr th {\n",
              "        vertical-align: top;\n",
              "    }\n",
              "\n",
              "    .dataframe thead th {\n",
              "        text-align: right;\n",
              "    }\n",
              "</style>\n",
              "<table border=\"1\" class=\"dataframe\">\n",
              "  <thead>\n",
              "    <tr style=\"text-align: right;\">\n",
              "      <th></th>\n",
              "      <th>user_agents</th>\n",
              "      <th>traffic</th>\n",
              "    </tr>\n",
              "  </thead>\n",
              "  <tbody>\n",
              "    <tr>\n",
              "      <th>61664</th>\n",
              "      <td>mozilla/5.0applewebkit/537.36(khtml,likegecko;...</td>\n",
              "      <td>Good</td>\n",
              "    </tr>\n",
              "    <tr>\n",
              "      <th>24153</th>\n",
              "      <td>bunnyoptimizer-v01</td>\n",
              "      <td>Good</td>\n",
              "    </tr>\n",
              "  </tbody>\n",
              "</table>\n",
              "</div>\n",
              "    <div class=\"colab-df-buttons\">\n",
              "\n",
              "  <div class=\"colab-df-container\">\n",
              "    <button class=\"colab-df-convert\" onclick=\"convertToInteractive('df-6fa9cba8-5b12-471f-b559-f94a4bbd73d0')\"\n",
              "            title=\"Convert this dataframe to an interactive table.\"\n",
              "            style=\"display:none;\">\n",
              "\n",
              "  <svg xmlns=\"http://www.w3.org/2000/svg\" height=\"24px\" viewBox=\"0 -960 960 960\">\n",
              "    <path d=\"M120-120v-720h720v720H120Zm60-500h600v-160H180v160Zm220 220h160v-160H400v160Zm0 220h160v-160H400v160ZM180-400h160v-160H180v160Zm440 0h160v-160H620v160ZM180-180h160v-160H180v160Zm440 0h160v-160H620v160Z\"/>\n",
              "  </svg>\n",
              "    </button>\n",
              "\n",
              "  <style>\n",
              "    .colab-df-container {\n",
              "      display:flex;\n",
              "      gap: 12px;\n",
              "    }\n",
              "\n",
              "    .colab-df-convert {\n",
              "      background-color: #E8F0FE;\n",
              "      border: none;\n",
              "      border-radius: 50%;\n",
              "      cursor: pointer;\n",
              "      display: none;\n",
              "      fill: #1967D2;\n",
              "      height: 32px;\n",
              "      padding: 0 0 0 0;\n",
              "      width: 32px;\n",
              "    }\n",
              "\n",
              "    .colab-df-convert:hover {\n",
              "      background-color: #E2EBFA;\n",
              "      box-shadow: 0px 1px 2px rgba(60, 64, 67, 0.3), 0px 1px 3px 1px rgba(60, 64, 67, 0.15);\n",
              "      fill: #174EA6;\n",
              "    }\n",
              "\n",
              "    .colab-df-buttons div {\n",
              "      margin-bottom: 4px;\n",
              "    }\n",
              "\n",
              "    [theme=dark] .colab-df-convert {\n",
              "      background-color: #3B4455;\n",
              "      fill: #D2E3FC;\n",
              "    }\n",
              "\n",
              "    [theme=dark] .colab-df-convert:hover {\n",
              "      background-color: #434B5C;\n",
              "      box-shadow: 0px 1px 3px 1px rgba(0, 0, 0, 0.15);\n",
              "      filter: drop-shadow(0px 1px 2px rgba(0, 0, 0, 0.3));\n",
              "      fill: #FFFFFF;\n",
              "    }\n",
              "  </style>\n",
              "\n",
              "    <script>\n",
              "      const buttonEl =\n",
              "        document.querySelector('#df-6fa9cba8-5b12-471f-b559-f94a4bbd73d0 button.colab-df-convert');\n",
              "      buttonEl.style.display =\n",
              "        google.colab.kernel.accessAllowed ? 'block' : 'none';\n",
              "\n",
              "      async function convertToInteractive(key) {\n",
              "        const element = document.querySelector('#df-6fa9cba8-5b12-471f-b559-f94a4bbd73d0');\n",
              "        const dataTable =\n",
              "          await google.colab.kernel.invokeFunction('convertToInteractive',\n",
              "                                                    [key], {});\n",
              "        if (!dataTable) return;\n",
              "\n",
              "        const docLinkHtml = 'Like what you see? Visit the ' +\n",
              "          '<a target=\"_blank\" href=https://colab.research.google.com/notebooks/data_table.ipynb>data table notebook</a>'\n",
              "          + ' to learn more about interactive tables.';\n",
              "        element.innerHTML = '';\n",
              "        dataTable['output_type'] = 'display_data';\n",
              "        await google.colab.output.renderOutput(dataTable, element);\n",
              "        const docLink = document.createElement('div');\n",
              "        docLink.innerHTML = docLinkHtml;\n",
              "        element.appendChild(docLink);\n",
              "      }\n",
              "    </script>\n",
              "  </div>\n",
              "\n",
              "\n",
              "<div id=\"df-80973730-e84a-45da-b8b5-f0f814533837\">\n",
              "  <button class=\"colab-df-quickchart\" onclick=\"quickchart('df-80973730-e84a-45da-b8b5-f0f814533837')\"\n",
              "            title=\"Suggest charts.\"\n",
              "            style=\"display:none;\">\n",
              "\n",
              "<svg xmlns=\"http://www.w3.org/2000/svg\" height=\"24px\"viewBox=\"0 0 24 24\"\n",
              "     width=\"24px\">\n",
              "    <g>\n",
              "        <path d=\"M19 3H5c-1.1 0-2 .9-2 2v14c0 1.1.9 2 2 2h14c1.1 0 2-.9 2-2V5c0-1.1-.9-2-2-2zM9 17H7v-7h2v7zm4 0h-2V7h2v10zm4 0h-2v-4h2v4z\"/>\n",
              "    </g>\n",
              "</svg>\n",
              "  </button>\n",
              "\n",
              "<style>\n",
              "  .colab-df-quickchart {\n",
              "    background-color: #E8F0FE;\n",
              "    border: none;\n",
              "    border-radius: 50%;\n",
              "    cursor: pointer;\n",
              "    display: none;\n",
              "    fill: #1967D2;\n",
              "    height: 32px;\n",
              "    padding: 0 0 0 0;\n",
              "    width: 32px;\n",
              "  }\n",
              "\n",
              "  .colab-df-quickchart:hover {\n",
              "    background-color: #E2EBFA;\n",
              "    box-shadow: 0px 1px 2px rgba(60, 64, 67, 0.3), 0px 1px 3px 1px rgba(60, 64, 67, 0.15);\n",
              "    fill: #174EA6;\n",
              "  }\n",
              "\n",
              "  [theme=dark] .colab-df-quickchart {\n",
              "    background-color: #3B4455;\n",
              "    fill: #D2E3FC;\n",
              "  }\n",
              "\n",
              "  [theme=dark] .colab-df-quickchart:hover {\n",
              "    background-color: #434B5C;\n",
              "    box-shadow: 0px 1px 3px 1px rgba(0, 0, 0, 0.15);\n",
              "    filter: drop-shadow(0px 1px 2px rgba(0, 0, 0, 0.3));\n",
              "    fill: #FFFFFF;\n",
              "  }\n",
              "</style>\n",
              "\n",
              "  <script>\n",
              "    async function quickchart(key) {\n",
              "      const charts = await google.colab.kernel.invokeFunction(\n",
              "          'suggestCharts', [key], {});\n",
              "    }\n",
              "    (() => {\n",
              "      let quickchartButtonEl =\n",
              "        document.querySelector('#df-80973730-e84a-45da-b8b5-f0f814533837 button');\n",
              "      quickchartButtonEl.style.display =\n",
              "        google.colab.kernel.accessAllowed ? 'block' : 'none';\n",
              "    })();\n",
              "  </script>\n",
              "</div>\n",
              "    </div>\n",
              "  </div>\n"
            ]
          },
          "metadata": {},
          "execution_count": 60
        }
      ]
    },
    {
      "cell_type": "code",
      "source": [
        "df_good_downsampled = df_good.sample(df_bad.shape[0])\n",
        "df_good_downsampled.shape"
      ],
      "metadata": {
        "id": "wj-Zn3sCcRz3",
        "colab": {
          "base_uri": "https://localhost:8080/"
        },
        "outputId": "7d27cb7c-630e-48bf-cad8-ee17cd32650b"
      },
      "execution_count": null,
      "outputs": [
        {
          "output_type": "execute_result",
          "data": {
            "text/plain": [
              "(13729, 2)"
            ]
          },
          "metadata": {},
          "execution_count": 61
        }
      ]
    },
    {
      "cell_type": "markdown",
      "source": [
        "Now both good traffic and bad traffic have 13729 samples\n"
      ],
      "metadata": {
        "id": "7sWwACHJcYnj"
      }
    },
    {
      "cell_type": "code",
      "source": [
        "# now lets concatenate good traffic and bad traffic together\n",
        "df_balanced = pd.concat([df_bad, df_good_downsampled])\n",
        "df_balanced.shape\n"
      ],
      "metadata": {
        "id": "cgAaY1DLcVDC",
        "colab": {
          "base_uri": "https://localhost:8080/"
        },
        "outputId": "23bfe26d-71aa-491f-ade3-1f6be9f3318d"
      },
      "execution_count": null,
      "outputs": [
        {
          "output_type": "execute_result",
          "data": {
            "text/plain": [
              "(27458, 2)"
            ]
          },
          "metadata": {},
          "execution_count": 62
        }
      ]
    },
    {
      "cell_type": "code",
      "source": [
        "df_balanced['traffic'].value_counts()"
      ],
      "metadata": {
        "id": "qQsNVE11cdVm",
        "colab": {
          "base_uri": "https://localhost:8080/"
        },
        "outputId": "8a145fea-5b4c-4f51-fdae-39ace610ea0c"
      },
      "execution_count": null,
      "outputs": [
        {
          "output_type": "execute_result",
          "data": {
            "text/plain": [
              "Bad     13729\n",
              "Good    13729\n",
              "Name: traffic, dtype: int64"
            ]
          },
          "metadata": {},
          "execution_count": 63
        }
      ]
    },
    {
      "cell_type": "code",
      "source": [
        "df_balanced.sample(5)"
      ],
      "metadata": {
        "id": "rtVToou1cffU",
        "colab": {
          "base_uri": "https://localhost:8080/",
          "height": 206
        },
        "outputId": "bd5a3c25-289d-45d6-be3f-b140656e4857"
      },
      "execution_count": null,
      "outputs": [
        {
          "output_type": "execute_result",
          "data": {
            "text/plain": [
              "                                             user_agents traffic\n",
              "42285  mozilla/5.0+(compatible;uptimerobot/2.0;http:/...    Good\n",
              "6174   mozilla/5.0(compatible;mj12bot/v1.4.8;http://m...     Bad\n",
              "98592  mozilla/5.0(windowsnt10.0;win64;x64;rv:109.0)g...    Good\n",
              "98586  mozilla/5.0(windowsnt10.0;win64;x64;rv:109.0)g...    Good\n",
              "3635   mozilla/5.0(compatible;velenpublicwebcrawler/1...     Bad"
            ],
            "text/html": [
              "\n",
              "  <div id=\"df-d6a0dab6-b2c8-4a3f-8618-70be941ace26\" class=\"colab-df-container\">\n",
              "    <div>\n",
              "<style scoped>\n",
              "    .dataframe tbody tr th:only-of-type {\n",
              "        vertical-align: middle;\n",
              "    }\n",
              "\n",
              "    .dataframe tbody tr th {\n",
              "        vertical-align: top;\n",
              "    }\n",
              "\n",
              "    .dataframe thead th {\n",
              "        text-align: right;\n",
              "    }\n",
              "</style>\n",
              "<table border=\"1\" class=\"dataframe\">\n",
              "  <thead>\n",
              "    <tr style=\"text-align: right;\">\n",
              "      <th></th>\n",
              "      <th>user_agents</th>\n",
              "      <th>traffic</th>\n",
              "    </tr>\n",
              "  </thead>\n",
              "  <tbody>\n",
              "    <tr>\n",
              "      <th>42285</th>\n",
              "      <td>mozilla/5.0+(compatible;uptimerobot/2.0;http:/...</td>\n",
              "      <td>Good</td>\n",
              "    </tr>\n",
              "    <tr>\n",
              "      <th>6174</th>\n",
              "      <td>mozilla/5.0(compatible;mj12bot/v1.4.8;http://m...</td>\n",
              "      <td>Bad</td>\n",
              "    </tr>\n",
              "    <tr>\n",
              "      <th>98592</th>\n",
              "      <td>mozilla/5.0(windowsnt10.0;win64;x64;rv:109.0)g...</td>\n",
              "      <td>Good</td>\n",
              "    </tr>\n",
              "    <tr>\n",
              "      <th>98586</th>\n",
              "      <td>mozilla/5.0(windowsnt10.0;win64;x64;rv:109.0)g...</td>\n",
              "      <td>Good</td>\n",
              "    </tr>\n",
              "    <tr>\n",
              "      <th>3635</th>\n",
              "      <td>mozilla/5.0(compatible;velenpublicwebcrawler/1...</td>\n",
              "      <td>Bad</td>\n",
              "    </tr>\n",
              "  </tbody>\n",
              "</table>\n",
              "</div>\n",
              "    <div class=\"colab-df-buttons\">\n",
              "\n",
              "  <div class=\"colab-df-container\">\n",
              "    <button class=\"colab-df-convert\" onclick=\"convertToInteractive('df-d6a0dab6-b2c8-4a3f-8618-70be941ace26')\"\n",
              "            title=\"Convert this dataframe to an interactive table.\"\n",
              "            style=\"display:none;\">\n",
              "\n",
              "  <svg xmlns=\"http://www.w3.org/2000/svg\" height=\"24px\" viewBox=\"0 -960 960 960\">\n",
              "    <path d=\"M120-120v-720h720v720H120Zm60-500h600v-160H180v160Zm220 220h160v-160H400v160Zm0 220h160v-160H400v160ZM180-400h160v-160H180v160Zm440 0h160v-160H620v160ZM180-180h160v-160H180v160Zm440 0h160v-160H620v160Z\"/>\n",
              "  </svg>\n",
              "    </button>\n",
              "\n",
              "  <style>\n",
              "    .colab-df-container {\n",
              "      display:flex;\n",
              "      gap: 12px;\n",
              "    }\n",
              "\n",
              "    .colab-df-convert {\n",
              "      background-color: #E8F0FE;\n",
              "      border: none;\n",
              "      border-radius: 50%;\n",
              "      cursor: pointer;\n",
              "      display: none;\n",
              "      fill: #1967D2;\n",
              "      height: 32px;\n",
              "      padding: 0 0 0 0;\n",
              "      width: 32px;\n",
              "    }\n",
              "\n",
              "    .colab-df-convert:hover {\n",
              "      background-color: #E2EBFA;\n",
              "      box-shadow: 0px 1px 2px rgba(60, 64, 67, 0.3), 0px 1px 3px 1px rgba(60, 64, 67, 0.15);\n",
              "      fill: #174EA6;\n",
              "    }\n",
              "\n",
              "    .colab-df-buttons div {\n",
              "      margin-bottom: 4px;\n",
              "    }\n",
              "\n",
              "    [theme=dark] .colab-df-convert {\n",
              "      background-color: #3B4455;\n",
              "      fill: #D2E3FC;\n",
              "    }\n",
              "\n",
              "    [theme=dark] .colab-df-convert:hover {\n",
              "      background-color: #434B5C;\n",
              "      box-shadow: 0px 1px 3px 1px rgba(0, 0, 0, 0.15);\n",
              "      filter: drop-shadow(0px 1px 2px rgba(0, 0, 0, 0.3));\n",
              "      fill: #FFFFFF;\n",
              "    }\n",
              "  </style>\n",
              "\n",
              "    <script>\n",
              "      const buttonEl =\n",
              "        document.querySelector('#df-d6a0dab6-b2c8-4a3f-8618-70be941ace26 button.colab-df-convert');\n",
              "      buttonEl.style.display =\n",
              "        google.colab.kernel.accessAllowed ? 'block' : 'none';\n",
              "\n",
              "      async function convertToInteractive(key) {\n",
              "        const element = document.querySelector('#df-d6a0dab6-b2c8-4a3f-8618-70be941ace26');\n",
              "        const dataTable =\n",
              "          await google.colab.kernel.invokeFunction('convertToInteractive',\n",
              "                                                    [key], {});\n",
              "        if (!dataTable) return;\n",
              "\n",
              "        const docLinkHtml = 'Like what you see? Visit the ' +\n",
              "          '<a target=\"_blank\" href=https://colab.research.google.com/notebooks/data_table.ipynb>data table notebook</a>'\n",
              "          + ' to learn more about interactive tables.';\n",
              "        element.innerHTML = '';\n",
              "        dataTable['output_type'] = 'display_data';\n",
              "        await google.colab.output.renderOutput(dataTable, element);\n",
              "        const docLink = document.createElement('div');\n",
              "        docLink.innerHTML = docLinkHtml;\n",
              "        element.appendChild(docLink);\n",
              "      }\n",
              "    </script>\n",
              "  </div>\n",
              "\n",
              "\n",
              "<div id=\"df-aec833b1-c030-4479-aabd-8338bfd225cf\">\n",
              "  <button class=\"colab-df-quickchart\" onclick=\"quickchart('df-aec833b1-c030-4479-aabd-8338bfd225cf')\"\n",
              "            title=\"Suggest charts.\"\n",
              "            style=\"display:none;\">\n",
              "\n",
              "<svg xmlns=\"http://www.w3.org/2000/svg\" height=\"24px\"viewBox=\"0 0 24 24\"\n",
              "     width=\"24px\">\n",
              "    <g>\n",
              "        <path d=\"M19 3H5c-1.1 0-2 .9-2 2v14c0 1.1.9 2 2 2h14c1.1 0 2-.9 2-2V5c0-1.1-.9-2-2-2zM9 17H7v-7h2v7zm4 0h-2V7h2v10zm4 0h-2v-4h2v4z\"/>\n",
              "    </g>\n",
              "</svg>\n",
              "  </button>\n",
              "\n",
              "<style>\n",
              "  .colab-df-quickchart {\n",
              "    background-color: #E8F0FE;\n",
              "    border: none;\n",
              "    border-radius: 50%;\n",
              "    cursor: pointer;\n",
              "    display: none;\n",
              "    fill: #1967D2;\n",
              "    height: 32px;\n",
              "    padding: 0 0 0 0;\n",
              "    width: 32px;\n",
              "  }\n",
              "\n",
              "  .colab-df-quickchart:hover {\n",
              "    background-color: #E2EBFA;\n",
              "    box-shadow: 0px 1px 2px rgba(60, 64, 67, 0.3), 0px 1px 3px 1px rgba(60, 64, 67, 0.15);\n",
              "    fill: #174EA6;\n",
              "  }\n",
              "\n",
              "  [theme=dark] .colab-df-quickchart {\n",
              "    background-color: #3B4455;\n",
              "    fill: #D2E3FC;\n",
              "  }\n",
              "\n",
              "  [theme=dark] .colab-df-quickchart:hover {\n",
              "    background-color: #434B5C;\n",
              "    box-shadow: 0px 1px 3px 1px rgba(0, 0, 0, 0.15);\n",
              "    filter: drop-shadow(0px 1px 2px rgba(0, 0, 0, 0.3));\n",
              "    fill: #FFFFFF;\n",
              "  }\n",
              "</style>\n",
              "\n",
              "  <script>\n",
              "    async function quickchart(key) {\n",
              "      const charts = await google.colab.kernel.invokeFunction(\n",
              "          'suggestCharts', [key], {});\n",
              "    }\n",
              "    (() => {\n",
              "      let quickchartButtonEl =\n",
              "        document.querySelector('#df-aec833b1-c030-4479-aabd-8338bfd225cf button');\n",
              "      quickchartButtonEl.style.display =\n",
              "        google.colab.kernel.accessAllowed ? 'block' : 'none';\n",
              "    })();\n",
              "  </script>\n",
              "</div>\n",
              "    </div>\n",
              "  </div>\n"
            ]
          },
          "metadata": {},
          "execution_count": 64
        }
      ]
    },
    {
      "cell_type": "code",
      "source": [
        "df_balanced['user_agents'][9781]"
      ],
      "metadata": {
        "id": "2lMITiCgci56",
        "colab": {
          "base_uri": "https://localhost:8080/",
          "height": 36
        },
        "outputId": "43abfc06-c970-4572-fd3d-f8a67b806492"
      },
      "execution_count": null,
      "outputs": [
        {
          "output_type": "execute_result",
          "data": {
            "text/plain": [
              "'mozilla/5.0(linux;android7.0;)applewebkit/537.36(khtml,likegecko)mobilesafari/537.36(compatible;petalbot;+https://webmaster.petalsearch.com/site/petalbot)'"
            ],
            "application/vnd.google.colaboratory.intrinsic+json": {
              "type": "string"
            }
          },
          "metadata": {},
          "execution_count": 65
        }
      ]
    },
    {
      "cell_type": "markdown",
      "source": [
        "Label Encoding"
      ],
      "metadata": {
        "id": "0DVrTwp97A6B"
      }
    },
    {
      "cell_type": "code",
      "source": [
        "# now lets create a new column called bad, bcz column traffic is a text column, i want to create a binary column called bad\n",
        "df_balanced['bad'] = df_balanced['traffic'].apply(lambda x: 1 if x == 'Bad' else 0)\n",
        "df_balanced.sample(5)"
      ],
      "metadata": {
        "id": "jbuO2wUHclFQ",
        "colab": {
          "base_uri": "https://localhost:8080/",
          "height": 206
        },
        "outputId": "a65532e3-55f6-4e68-8d79-3009ad334f58"
      },
      "execution_count": null,
      "outputs": [
        {
          "output_type": "execute_result",
          "data": {
            "text/plain": [
              "                                              user_agents traffic  bad\n",
              "9622    mozilla/5.0(linux;android7.0;)applewebkit/537....     Bad    1\n",
              "103212  mozilla/5.0(windowsnt10.0;win64;x64)applewebki...    Good    0\n",
              "41780   mozilla/5.0(windowsnt10.0;win64;x64)applewebki...    Good    0\n",
              "57600                                 googlebot-image/1.0    Good    0\n",
              "128721  mozilla/5.0(windowsnt10.0;win64;x64)applewebki...    Good    0"
            ],
            "text/html": [
              "\n",
              "  <div id=\"df-1d105118-a965-4736-992f-d27e32610f0a\" class=\"colab-df-container\">\n",
              "    <div>\n",
              "<style scoped>\n",
              "    .dataframe tbody tr th:only-of-type {\n",
              "        vertical-align: middle;\n",
              "    }\n",
              "\n",
              "    .dataframe tbody tr th {\n",
              "        vertical-align: top;\n",
              "    }\n",
              "\n",
              "    .dataframe thead th {\n",
              "        text-align: right;\n",
              "    }\n",
              "</style>\n",
              "<table border=\"1\" class=\"dataframe\">\n",
              "  <thead>\n",
              "    <tr style=\"text-align: right;\">\n",
              "      <th></th>\n",
              "      <th>user_agents</th>\n",
              "      <th>traffic</th>\n",
              "      <th>bad</th>\n",
              "    </tr>\n",
              "  </thead>\n",
              "  <tbody>\n",
              "    <tr>\n",
              "      <th>9622</th>\n",
              "      <td>mozilla/5.0(linux;android7.0;)applewebkit/537....</td>\n",
              "      <td>Bad</td>\n",
              "      <td>1</td>\n",
              "    </tr>\n",
              "    <tr>\n",
              "      <th>103212</th>\n",
              "      <td>mozilla/5.0(windowsnt10.0;win64;x64)applewebki...</td>\n",
              "      <td>Good</td>\n",
              "      <td>0</td>\n",
              "    </tr>\n",
              "    <tr>\n",
              "      <th>41780</th>\n",
              "      <td>mozilla/5.0(windowsnt10.0;win64;x64)applewebki...</td>\n",
              "      <td>Good</td>\n",
              "      <td>0</td>\n",
              "    </tr>\n",
              "    <tr>\n",
              "      <th>57600</th>\n",
              "      <td>googlebot-image/1.0</td>\n",
              "      <td>Good</td>\n",
              "      <td>0</td>\n",
              "    </tr>\n",
              "    <tr>\n",
              "      <th>128721</th>\n",
              "      <td>mozilla/5.0(windowsnt10.0;win64;x64)applewebki...</td>\n",
              "      <td>Good</td>\n",
              "      <td>0</td>\n",
              "    </tr>\n",
              "  </tbody>\n",
              "</table>\n",
              "</div>\n",
              "    <div class=\"colab-df-buttons\">\n",
              "\n",
              "  <div class=\"colab-df-container\">\n",
              "    <button class=\"colab-df-convert\" onclick=\"convertToInteractive('df-1d105118-a965-4736-992f-d27e32610f0a')\"\n",
              "            title=\"Convert this dataframe to an interactive table.\"\n",
              "            style=\"display:none;\">\n",
              "\n",
              "  <svg xmlns=\"http://www.w3.org/2000/svg\" height=\"24px\" viewBox=\"0 -960 960 960\">\n",
              "    <path d=\"M120-120v-720h720v720H120Zm60-500h600v-160H180v160Zm220 220h160v-160H400v160Zm0 220h160v-160H400v160ZM180-400h160v-160H180v160Zm440 0h160v-160H620v160ZM180-180h160v-160H180v160Zm440 0h160v-160H620v160Z\"/>\n",
              "  </svg>\n",
              "    </button>\n",
              "\n",
              "  <style>\n",
              "    .colab-df-container {\n",
              "      display:flex;\n",
              "      gap: 12px;\n",
              "    }\n",
              "\n",
              "    .colab-df-convert {\n",
              "      background-color: #E8F0FE;\n",
              "      border: none;\n",
              "      border-radius: 50%;\n",
              "      cursor: pointer;\n",
              "      display: none;\n",
              "      fill: #1967D2;\n",
              "      height: 32px;\n",
              "      padding: 0 0 0 0;\n",
              "      width: 32px;\n",
              "    }\n",
              "\n",
              "    .colab-df-convert:hover {\n",
              "      background-color: #E2EBFA;\n",
              "      box-shadow: 0px 1px 2px rgba(60, 64, 67, 0.3), 0px 1px 3px 1px rgba(60, 64, 67, 0.15);\n",
              "      fill: #174EA6;\n",
              "    }\n",
              "\n",
              "    .colab-df-buttons div {\n",
              "      margin-bottom: 4px;\n",
              "    }\n",
              "\n",
              "    [theme=dark] .colab-df-convert {\n",
              "      background-color: #3B4455;\n",
              "      fill: #D2E3FC;\n",
              "    }\n",
              "\n",
              "    [theme=dark] .colab-df-convert:hover {\n",
              "      background-color: #434B5C;\n",
              "      box-shadow: 0px 1px 3px 1px rgba(0, 0, 0, 0.15);\n",
              "      filter: drop-shadow(0px 1px 2px rgba(0, 0, 0, 0.3));\n",
              "      fill: #FFFFFF;\n",
              "    }\n",
              "  </style>\n",
              "\n",
              "    <script>\n",
              "      const buttonEl =\n",
              "        document.querySelector('#df-1d105118-a965-4736-992f-d27e32610f0a button.colab-df-convert');\n",
              "      buttonEl.style.display =\n",
              "        google.colab.kernel.accessAllowed ? 'block' : 'none';\n",
              "\n",
              "      async function convertToInteractive(key) {\n",
              "        const element = document.querySelector('#df-1d105118-a965-4736-992f-d27e32610f0a');\n",
              "        const dataTable =\n",
              "          await google.colab.kernel.invokeFunction('convertToInteractive',\n",
              "                                                    [key], {});\n",
              "        if (!dataTable) return;\n",
              "\n",
              "        const docLinkHtml = 'Like what you see? Visit the ' +\n",
              "          '<a target=\"_blank\" href=https://colab.research.google.com/notebooks/data_table.ipynb>data table notebook</a>'\n",
              "          + ' to learn more about interactive tables.';\n",
              "        element.innerHTML = '';\n",
              "        dataTable['output_type'] = 'display_data';\n",
              "        await google.colab.output.renderOutput(dataTable, element);\n",
              "        const docLink = document.createElement('div');\n",
              "        docLink.innerHTML = docLinkHtml;\n",
              "        element.appendChild(docLink);\n",
              "      }\n",
              "    </script>\n",
              "  </div>\n",
              "\n",
              "\n",
              "<div id=\"df-78ed1514-a741-44a8-b184-d29ffed94f72\">\n",
              "  <button class=\"colab-df-quickchart\" onclick=\"quickchart('df-78ed1514-a741-44a8-b184-d29ffed94f72')\"\n",
              "            title=\"Suggest charts.\"\n",
              "            style=\"display:none;\">\n",
              "\n",
              "<svg xmlns=\"http://www.w3.org/2000/svg\" height=\"24px\"viewBox=\"0 0 24 24\"\n",
              "     width=\"24px\">\n",
              "    <g>\n",
              "        <path d=\"M19 3H5c-1.1 0-2 .9-2 2v14c0 1.1.9 2 2 2h14c1.1 0 2-.9 2-2V5c0-1.1-.9-2-2-2zM9 17H7v-7h2v7zm4 0h-2V7h2v10zm4 0h-2v-4h2v4z\"/>\n",
              "    </g>\n",
              "</svg>\n",
              "  </button>\n",
              "\n",
              "<style>\n",
              "  .colab-df-quickchart {\n",
              "    background-color: #E8F0FE;\n",
              "    border: none;\n",
              "    border-radius: 50%;\n",
              "    cursor: pointer;\n",
              "    display: none;\n",
              "    fill: #1967D2;\n",
              "    height: 32px;\n",
              "    padding: 0 0 0 0;\n",
              "    width: 32px;\n",
              "  }\n",
              "\n",
              "  .colab-df-quickchart:hover {\n",
              "    background-color: #E2EBFA;\n",
              "    box-shadow: 0px 1px 2px rgba(60, 64, 67, 0.3), 0px 1px 3px 1px rgba(60, 64, 67, 0.15);\n",
              "    fill: #174EA6;\n",
              "  }\n",
              "\n",
              "  [theme=dark] .colab-df-quickchart {\n",
              "    background-color: #3B4455;\n",
              "    fill: #D2E3FC;\n",
              "  }\n",
              "\n",
              "  [theme=dark] .colab-df-quickchart:hover {\n",
              "    background-color: #434B5C;\n",
              "    box-shadow: 0px 1px 3px 1px rgba(0, 0, 0, 0.15);\n",
              "    filter: drop-shadow(0px 1px 2px rgba(0, 0, 0, 0.3));\n",
              "    fill: #FFFFFF;\n",
              "  }\n",
              "</style>\n",
              "\n",
              "  <script>\n",
              "    async function quickchart(key) {\n",
              "      const charts = await google.colab.kernel.invokeFunction(\n",
              "          'suggestCharts', [key], {});\n",
              "    }\n",
              "    (() => {\n",
              "      let quickchartButtonEl =\n",
              "        document.querySelector('#df-78ed1514-a741-44a8-b184-d29ffed94f72 button');\n",
              "      quickchartButtonEl.style.display =\n",
              "        google.colab.kernel.accessAllowed ? 'block' : 'none';\n",
              "    })();\n",
              "  </script>\n",
              "</div>\n",
              "    </div>\n",
              "  </div>\n"
            ]
          },
          "metadata": {},
          "execution_count": 66
        }
      ]
    },
    {
      "cell_type": "markdown",
      "source": [
        "Bad Traffic - 1\n",
        "\n",
        "Good Traffic - 0"
      ],
      "metadata": {
        "id": "4CxSAkp57GBu"
      }
    },
    {
      "cell_type": "markdown",
      "source": [
        "### **Splitting the data into training data & test data**"
      ],
      "metadata": {
        "id": "EW4I46up7fjR"
      }
    },
    {
      "cell_type": "code",
      "source": [
        "from sklearn.model_selection import train_test_split\n",
        "x_train,x_test,y_train,y_test = train_test_split(df_balanced['user_agents'], df_balanced['bad'], stratify = df_balanced['bad'])\n",
        "# we used stratify so that in our train and test sample ,the distribution of the categories is equal"
      ],
      "metadata": {
        "id": "xPNzYyuwcpXl"
      },
      "execution_count": null,
      "outputs": []
    },
    {
      "cell_type": "code",
      "source": [
        "x_train.head()"
      ],
      "metadata": {
        "id": "YkTcco7tcsqM",
        "colab": {
          "base_uri": "https://localhost:8080/"
        },
        "outputId": "bed9280a-5e74-4101-e49c-774833efa69e"
      },
      "execution_count": null,
      "outputs": [
        {
          "output_type": "execute_result",
          "data": {
            "text/plain": [
              "94488    mozilla/5.0(windowsnt10.0;win64;x64)applewebki...\n",
              "1998     mozilla/5.0(compatible;velenpublicwebcrawler/1...\n",
              "94954    mozilla/5.0(windowsnt10.0;win64;x64)applewebki...\n",
              "3181     mozilla/5.0(compatible;velenpublicwebcrawler/1...\n",
              "2367     mozilla/5.0(compatible;velenpublicwebcrawler/1...\n",
              "Name: user_agents, dtype: object"
            ]
          },
          "metadata": {},
          "execution_count": 68
        }
      ]
    },
    {
      "cell_type": "code",
      "source": [
        "x_test.shape"
      ],
      "metadata": {
        "id": "HViqgIeBcsfm",
        "colab": {
          "base_uri": "https://localhost:8080/"
        },
        "outputId": "4bbdd41d-e5bd-4fe4-ff81-7791d65bc53c"
      },
      "execution_count": null,
      "outputs": [
        {
          "output_type": "execute_result",
          "data": {
            "text/plain": [
              "(6865,)"
            ]
          },
          "metadata": {},
          "execution_count": 69
        }
      ]
    },
    {
      "cell_type": "markdown",
      "source": [
        "**Feature Extraction**"
      ],
      "metadata": {
        "id": "zZ48oOnx7ryo"
      }
    },
    {
      "cell_type": "code",
      "source": [
        "# transform the text data to feature vectors that can be used as input to the Logistic regression\n",
        "\n",
        "feature_extraction = TfidfVectorizer(min_df = 1)\n",
        "\n",
        "x_train_features = feature_extraction.fit_transform(x_train)\n",
        "x_test_features = feature_extraction.transform(x_test)\n",
        "\n",
        "# convert Y_train and Y_test values as integers\n",
        "\n",
        "y_train = y_train.astype('int')\n",
        "y_test = y_test.astype('int')"
      ],
      "metadata": {
        "id": "-vL35eYF1uf1"
      },
      "execution_count": null,
      "outputs": []
    },
    {
      "cell_type": "code",
      "source": [
        "print(x_train)"
      ],
      "metadata": {
        "id": "9jni_Vo72CAD",
        "colab": {
          "base_uri": "https://localhost:8080/"
        },
        "outputId": "ba1df826-94e4-419a-cf95-b1e4e143d0ba"
      },
      "execution_count": null,
      "outputs": [
        {
          "output_type": "stream",
          "name": "stdout",
          "text": [
            "94488    mozilla/5.0(windowsnt10.0;win64;x64)applewebki...\n",
            "1998     mozilla/5.0(compatible;velenpublicwebcrawler/1...\n",
            "94954    mozilla/5.0(windowsnt10.0;win64;x64)applewebki...\n",
            "3181     mozilla/5.0(compatible;velenpublicwebcrawler/1...\n",
            "2367     mozilla/5.0(compatible;velenpublicwebcrawler/1...\n",
            "                               ...                        \n",
            "10637    awariosmartbot/1.0(+https://awario.com/bots.ht...\n",
            "10180    mozilla/5.0(compatible;dotbot/1.2;+https://ope...\n",
            "85651    mozilla/5.0(windowsnt10.0;win64;x64)applewebki...\n",
            "12059    awariosmartbot/1.0(+https://awario.com/bots.ht...\n",
            "5794     mozilla/5.0(compatible;dotbot/1.2;+https://ope...\n",
            "Name: user_agents, Length: 20593, dtype: object\n"
          ]
        }
      ]
    },
    {
      "cell_type": "code",
      "source": [
        "print(x_train_features)"
      ],
      "metadata": {
        "id": "4HS4Ho8u2Qyd",
        "colab": {
          "base_uri": "https://localhost:8080/"
        },
        "outputId": "419521bb-bd36-4ce3-999a-9dc4d21aaf68"
      },
      "execution_count": null,
      "outputs": [
        {
          "output_type": "stream",
          "name": "stdout",
          "text": [
            "  (0, 173)\t0.4042655251007319\n",
            "  (0, 157)\t0.3710729798266799\n",
            "  (0, 257)\t0.36526031713488677\n",
            "  (0, 26)\t0.21932686150138944\n",
            "  (0, 69)\t0.43805585803935504\n",
            "  (0, 539)\t0.17247920873313585\n",
            "  (0, 686)\t0.14362023597622736\n",
            "  (0, 681)\t0.14382057698602876\n",
            "  (0, 250)\t0.14854379267815004\n",
            "  (0, 342)\t0.2969128809980144\n",
            "  (0, 505)\t0.14590085091735067\n",
            "  (0, 865)\t0.19620569328930823\n",
            "  (0, 852)\t0.1963157992290876\n",
            "  (0, 856)\t0.19439400497679746\n",
            "  (0, 722)\t0.089813934512493\n",
            "  (1, 675)\t0.4952793142178902\n",
            "  (1, 839)\t0.4959774171381199\n",
            "  (1, 629)\t0.34733271559479867\n",
            "  (1, 840)\t0.4959774171381199\n",
            "  (1, 550)\t0.3081138275845447\n",
            "  (1, 722)\t0.2171107049746729\n",
            "  (2, 26)\t0.31405070489685977\n",
            "  (2, 69)\t0.3136226681486222\n",
            "  (2, 539)\t0.2469702831285477\n",
            "  (2, 686)\t0.20564757110474496\n",
            "  :\t:\n",
            "  (20590, 539)\t0.17247920873313585\n",
            "  (20590, 686)\t0.14362023597622736\n",
            "  (20590, 681)\t0.14382057698602876\n",
            "  (20590, 250)\t0.14854379267815004\n",
            "  (20590, 342)\t0.2969128809980144\n",
            "  (20590, 505)\t0.14590085091735067\n",
            "  (20590, 865)\t0.19620569328930823\n",
            "  (20590, 852)\t0.1963157992290876\n",
            "  (20590, 856)\t0.19439400497679746\n",
            "  (20590, 722)\t0.089813934512493\n",
            "  (20591, 626)\t0.27690408982064063\n",
            "  (20591, 524)\t0.5829009413703404\n",
            "  (20591, 549)\t0.29685412722364923\n",
            "  (20591, 510)\t0.6157578729046189\n",
            "  (20591, 512)\t0.3084296385181908\n",
            "  (20591, 629)\t0.1454016670467594\n",
            "  (20592, 721)\t0.3329092729838717\n",
            "  (20592, 623)\t0.3284380831617515\n",
            "  (20592, 748)\t0.3329092729838717\n",
            "  (20592, 746)\t0.3329092729838717\n",
            "  (20592, 589)\t0.6658185459677434\n",
            "  (20592, 549)\t0.19403462879623762\n",
            "  (20592, 629)\t0.19007961085558037\n",
            "  (20592, 550)\t0.1686168731505771\n",
            "  (20592, 722)\t0.11881494734377546\n"
          ]
        }
      ]
    },
    {
      "cell_type": "markdown",
      "source": [
        "### **Training and Evaluating the Model **\n",
        "\n",
        "**Logistic Regression** and **Naive Bayes**"
      ],
      "metadata": {
        "id": "xtVOHxtj75_g"
      }
    },
    {
      "cell_type": "code",
      "source": [
        "lr = LogisticRegression()\n",
        "mnb = MultinomialNB()"
      ],
      "metadata": {
        "id": "fzGr25-B-SsN"
      },
      "execution_count": null,
      "outputs": []
    },
    {
      "cell_type": "code",
      "source": [
        "clfs = {\n",
        "            'Logistic Regression': lr,\n",
        "             'Naive Bayes': mnb\n",
        "       }"
      ],
      "metadata": {
        "id": "zYmaMryf-dZg"
      },
      "execution_count": null,
      "outputs": []
    },
    {
      "cell_type": "code",
      "source": [
        "def train_classifier(model,x_train_features,y_train,x_test_features,y_test):\n",
        "    model.fit(x_train_features,y_train)\n",
        "    prediction_on_training_data = model.predict(x_train_features)\n",
        "    accuracy_on_training_data = accuracy_score(y_train, prediction_on_training_data)\n",
        "    prediction_on_test_data = model.predict(x_test_features)\n",
        "    accuracy_on_test_data = accuracy_score(y_test, prediction_on_test_data)\n",
        "\n",
        "\n",
        "    return accuracy_on_training_data,accuracy_on_test_data"
      ],
      "metadata": {
        "id": "QCrlKy73-rjV"
      },
      "execution_count": null,
      "outputs": []
    },
    {
      "cell_type": "code",
      "source": [
        "for name,clf in clfs.items():\n",
        "\n",
        "    accuracy_on_training_data,accuracy_on_test_data = train_classifier(clf, x_train_features,y_train,x_test_features,y_test)\n",
        "\n",
        "    print(\"For \",name)\n",
        "    print(\"Accuracy of Training data - \",accuracy_on_training_data)\n",
        "    print(\"Accuracy of Test data - \",accuracy_on_test_data)\n",
        "    print()\n"
      ],
      "metadata": {
        "colab": {
          "base_uri": "https://localhost:8080/"
        },
        "id": "ioxooi2q_206",
        "outputId": "d9c0bbf9-d4f3-4748-b05b-2985487badce"
      },
      "execution_count": null,
      "outputs": [
        {
          "output_type": "stream",
          "name": "stdout",
          "text": [
            "For  Logistic Regression\n",
            "Accuracy of Training data -  0.9986403146700336\n",
            "Accuracy of Test data -  0.9982520029133285\n",
            "\n",
            "For  Naive Bayes\n",
            "Accuracy of Training data -  0.9985431942893216\n",
            "Accuracy of Test data -  0.9981063364894391\n",
            "\n"
          ]
        }
      ]
    },
    {
      "cell_type": "markdown",
      "source": [
        "**Building a Predictive System**"
      ],
      "metadata": {
        "id": "PfwLrohz85CW"
      }
    },
    {
      "cell_type": "code",
      "source": [
        "input_mail = ['Mozilla/5.0 (Linux; Android 7.0;) AppleWebKit/537.36 (KHTML, like Gecko) Mobile Safari/537.36 (compatible; PetalBot;+https://webmaster.petalsearch.com/site/petalbot)']\n",
        "\n",
        "# convert text to feature vectors\n",
        "input_data_features = feature_extraction.transform(input_mail)\n",
        "\n",
        "# making prediction\n",
        "for name, clf in clfs.items():\n",
        "  prediction = clf.predict(input_data_features)\n",
        "  print(\"For \", name)\n",
        "  print(\"Prediction - \", prediction)\n",
        "  if (prediction[0]==1):\n",
        "    print('Bad Traffic')\n",
        "\n",
        "  else:\n",
        "    print('Good Traffic')\n",
        "  print()\n",
        "\n"
      ],
      "metadata": {
        "colab": {
          "base_uri": "https://localhost:8080/"
        },
        "id": "5Lqaexr78YQ1",
        "outputId": "54032769-fa0e-4166-8369-4b1db8f918e5"
      },
      "execution_count": null,
      "outputs": [
        {
          "output_type": "stream",
          "name": "stdout",
          "text": [
            "For  Logistic Regression\n",
            "Prediction -  [1]\n",
            "Bad Traffic\n",
            "\n",
            "For  Naive Bayes\n",
            "Prediction -  [1]\n",
            "Bad Traffic\n",
            "\n"
          ]
        }
      ]
    },
    {
      "cell_type": "markdown",
      "source": [
        "Confusion Matrix of model trained by Logistic Regression"
      ],
      "metadata": {
        "id": "1p0j3h9sm47f"
      }
    },
    {
      "cell_type": "code",
      "source": [
        "from sklearn.metrics import confusion_matrix, classification_report\n",
        "from matplotlib import pyplot as plt\n",
        "import seaborn as sn\n",
        "\n",
        "prediction_on_test_data = lr.predict(x_test_features)\n",
        "cm = confusion_matrix(y_test, prediction_on_test_data)\n",
        "sn.heatmap(cm, annot = True, fmt = 'd')\n",
        "plt.xlabel('Predicted')\n",
        "plt.ylabel('Truth')\n"
      ],
      "metadata": {
        "colab": {
          "base_uri": "https://localhost:8080/",
          "height": 466
        },
        "id": "GmjlUkrORHrJ",
        "outputId": "14c62074-dc7c-494a-a361-0e5787a01b75"
      },
      "execution_count": null,
      "outputs": [
        {
          "output_type": "execute_result",
          "data": {
            "text/plain": [
              "Text(50.722222222222214, 0.5, 'Truth')"
            ]
          },
          "metadata": {},
          "execution_count": 86
        },
        {
          "output_type": "display_data",
          "data": {
            "text/plain": [
              "<Figure size 640x480 with 2 Axes>"
            ],
            "image/png": "[encoded data removed]"
          },
          "metadata": {}
        }
      ]
    },
    {
      "cell_type": "markdown",
      "source": [
        "Confusion Matrix of model trained by Naive Bayes"
      ],
      "metadata": {
        "id": "hp3XdC8wnC61"
      }
    },
    {
      "cell_type": "code",
      "source": [
        "prediction_on_test_data = mnb.predict(x_test_features)\n",
        "cm = confusion_matrix(y_test, prediction_on_test_data)\n",
        "sn.heatmap(cm, annot = True, fmt = 'd')\n",
        "plt.xlabel('Predicted')\n",
        "plt.ylabel('Truth')"
      ],
      "metadata": {
        "colab": {
          "base_uri": "https://localhost:8080/",
          "height": 466
        },
        "id": "HkfEMi5unCdl",
        "outputId": "89d365e0-c1fd-46ee-dafb-9d2a0118f434"
      },
      "execution_count": null,
      "outputs": [
        {
          "output_type": "execute_result",
          "data": {
            "text/plain": [
              "Text(50.722222222222214, 0.5, 'Truth')"
            ]
          },
          "metadata": {},
          "execution_count": 87
        },
        {
          "output_type": "display_data",
          "data": {
            "text/plain": [
              "<Figure size 640x480 with 2 Axes>"
            ],
            "image/png": "[encoded data removed]"
          },
          "metadata": {}
        }
      ]
    },
    {
      "cell_type": "markdown",
      "source": [
        "Classification report of model trained on *Logistic Regression*"
      ],
      "metadata": {
        "id": "tTiDYKSX8tLN"
      }
    },
    {
      "cell_type": "code",
      "source": [
        "prediction_on_test_data = lr.predict(x_test_features)\n",
        "print(classification_report(y_test, prediction_on_test_data))"
      ],
      "metadata": {
        "colab": {
          "base_uri": "https://localhost:8080/"
        },
        "id": "FYg6BKhLRStU",
        "outputId": "1cf242c2-3ab2-4eb7-9dd8-9353cb6f8785"
      },
      "execution_count": null,
      "outputs": [
        {
          "output_type": "stream",
          "name": "stdout",
          "text": [
            "              precision    recall  f1-score   support\n",
            "\n",
            "           0       1.00      1.00      1.00      3433\n",
            "           1       1.00      1.00      1.00      3432\n",
            "\n",
            "    accuracy                           1.00      6865\n",
            "   macro avg       1.00      1.00      1.00      6865\n",
            "weighted avg       1.00      1.00      1.00      6865\n",
            "\n"
          ]
        }
      ]
    },
    {
      "cell_type": "markdown",
      "source": [
        "Classification report of model trained on *Naive Bayes*"
      ],
      "metadata": {
        "id": "WAInHxAn8rFn"
      }
    },
    {
      "cell_type": "code",
      "source": [
        "prediction_on_test_data = mnb.predict(x_test_features)\n",
        "print(classification_report(y_test, prediction_on_test_data))"
      ],
      "metadata": {
        "colab": {
          "base_uri": "https://localhost:8080/"
        },
        "id": "y5sWZyl4nkbk",
        "outputId": "2585c2f0-9e0e-4c38-a646-524dc9885b70"
      },
      "execution_count": null,
      "outputs": [
        {
          "output_type": "stream",
          "name": "stdout",
          "text": [
            "              precision    recall  f1-score   support\n",
            "\n",
            "           0       1.00      1.00      1.00      3433\n",
            "           1       1.00      1.00      1.00      3432\n",
            "\n",
            "    accuracy                           1.00      6865\n",
            "   macro avg       1.00      1.00      1.00      6865\n",
            "weighted avg       1.00      1.00      1.00      6865\n",
            "\n"
          ]
        }
      ]
    }
  ]
}
