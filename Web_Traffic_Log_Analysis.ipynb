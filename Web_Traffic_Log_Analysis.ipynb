{
  "nbformat": 4,
  "nbformat_minor": 0,
  "metadata": {
    "colab": {
      "provenance": [],
      "authorship_tag": "ABX9TyNJActbij0RooSdsOqyalXh",
      "include_colab_link": true
    },
    "kernelspec": {
      "name": "python3",
      "display_name": "Python 3"
    },
    "language_info": {
      "name": "python"
    }
  },
  "cells": [
    {
      "cell_type": "markdown",
      "metadata": {
        "id": "view-in-github",
        "colab_type": "text"
      },
      "source": [
        "<a href=\"https://colab.research.google.com/github/premswaroopmusti/Prophaze_tasks/blob/main/Task_2.ipynb\" target=\"_parent\"><img src=\"https://colab.research.google.com/assets/colab-badge.svg\" alt=\"Open In Colab\"/></a>"
      ]
    },
    {
      "cell_type": "markdown",
      "source": [
        "### **Inferences that i will be finding out.**\n",
        "**Requests per Minute:**\n",
        "\n",
        "Calculate the frequency of requests occurring in each minute using the provided timestamps.\n",
        "\n",
        "**IP Analysis:**\n",
        "\n",
        "Count the unique IP addresses to determine the number of unique visitors.\n",
        "Identify patterns in IP addresses, such as repeated visits from the same IP or IP ranges.\n",
        "\n",
        "**Request Analysis:**\n",
        "\n",
        "Count the frequency of different types of requests (e.g., resource paths) to identify popular resources.\n",
        "Analyze the status codes to understand the distribution of successful and unsuccessful requests.\n",
        "\n",
        "**Referrer Analysis:**\n",
        "\n",
        "Count the frequency of different referrers to identify sources of traffic.\n",
        "Determine if there is a significant portion of requests with no referrer.\n",
        "\n",
        "**User-Agent Analysis:**\n",
        "\n",
        "Count the frequency of different user agents to understand the distribution of devices and browsers.\n",
        "Identify the most common user agents and their associated devices/browsers.\n",
        "\n",
        "**Temporal Patterns:**\n",
        "\n",
        "Analyze the timestamp data to identify peak traffic times and periods of low activity.\n",
        "Calculate average request rates per hour.\n",
        "\n",
        "**Geolocation:**\n",
        "\n",
        "Use IP geolocation services to determine the geographical distribution of the requests"
      ],
      "metadata": {
        "id": "DH50hWM2pdLH"
      }
    },
    {
      "cell_type": "markdown",
      "source": [
        "### **Importing the Dependencies**"
      ],
      "metadata": {
        "id": "HpMiUdji2GW6"
      }
    },
    {
      "cell_type": "code",
      "execution_count": null,
      "metadata": {
        "id": "QiybGjzDyaSR"
      },
      "outputs": [],
      "source": [
        "import pandas as pd\n",
        "from dateutil import parser\n",
        "from collections import Counter\n",
        "from datetime import datetime, date\n",
        "import numpy as np\n",
        "from collections import OrderedDict\n",
        "import re\n",
        "import requests\n",
        "import seaborn as sns\n",
        "import matplotlib.pyplot as plt\n",
        "from google.colab import drive"
      ]
    },
    {
      "cell_type": "markdown",
      "source": [
        "### **Data Collection & Pre-Processing**"
      ],
      "metadata": {
        "id": "Ww7VOONy2bSN"
      }
    },
    {
      "cell_type": "code",
      "source": [
        "drive.mount('/content/drive')\n",
        "\n",
        "# loading the data from csv file to a pandas Dataframe\n",
        "data = pd.read_csv(\"/content/drive/MyDrive/Dataset/123dataset.csv\");"
      ],
      "metadata": {
        "colab": {
          "base_uri": "https://localhost:8080/"
        },
        "id": "eOiMoSKQykyO",
        "outputId": "85c38c89-5294-4167-fdde-4d25097c357c"
      },
      "execution_count": null,
      "outputs": [
        {
          "output_type": "stream",
          "name": "stdout",
          "text": [
            "Drive already mounted at /content/drive; to attempt to forcibly remount, call drive.mount(\"/content/drive\", force_remount=True).\n"
          ]
        }
      ]
    },
    {
      "cell_type": "code",
      "source": [
        "data.info()"
      ],
      "metadata": {
        "colab": {
          "base_uri": "https://localhost:8080/"
        },
        "id": "GN_nh-rNym5i",
        "outputId": "8f730215-6fbd-4d81-d317-4c5c369db8bc"
      },
      "execution_count": null,
      "outputs": [
        {
          "output_type": "stream",
          "name": "stdout",
          "text": [
            "<class 'pandas.core.frame.DataFrame'>\n",
            "RangeIndex: 129400 entries, 0 to 129399\n",
            "Data columns (total 7 columns):\n",
            " #   Column           Non-Null Count   Dtype \n",
            "---  ------           --------------   ----- \n",
            " 0   Unnamed: 0       129400 non-null  int64 \n",
            " 1   request          129400 non-null  object\n",
            " 2   remote_addr      129400 non-null  object\n",
            " 3   @timestamp       129400 non-null  object\n",
            " 4   http_referrer    129400 non-null  object\n",
            " 5   http_user_agent  129400 non-null  object\n",
            " 6   status           129400 non-null  int64 \n",
            "dtypes: int64(2), object(5)\n",
            "memory usage: 6.9+ MB\n"
          ]
        }
      ]
    },
    {
      "cell_type": "code",
      "source": [
        "timevalue_list = list(data['@timestamp'])\n",
        "request_list = list(data['request'])\n",
        "ip_address = list(data['remote_addr'])\n",
        "reffer_list = list(data['http_referrer'])\n",
        "status_list = list(data['status'])\n",
        "user_agent_list = list(data['http_user_agent'])"
      ],
      "metadata": {
        "id": "nFZGhSVjypL9"
      },
      "execution_count": null,
      "outputs": []
    },
    {
      "cell_type": "markdown",
      "source": [
        "**Requests per Minute:**\n",
        "\n",
        "Calculate the frequency of requests occurring in each minute using the provided timestamps."
      ],
      "metadata": {
        "id": "E2XUp_qQq_Bh"
      }
    },
    {
      "cell_type": "code",
      "source": [
        " # Request Occur in Every Minute\n",
        "total_request_count = 0\n",
        "requests_per_minute = Counter()\n",
        "for timestamp_str in timevalue_list:\n",
        "    timestamp_str = timestamp_str.split('+')[0]\n",
        "    timestamp_str = timestamp_str.split('.')[0]\n",
        "    timestamp = datetime.strptime(timestamp_str, \"%Y-%m-%d %H:%M:%S\")\n",
        "    minute = timestamp.strftime(\"%Y-%m-%d %H:%M\")\n",
        "    requests_per_minute[minute] += 1\n",
        "for minute, count in requests_per_minute.items():\n",
        "    # print(f\"Minute: {minute}, Requests: {count}\")\n",
        "    total_request_count += count\n",
        "requests_per_minute = sorted(requests_per_minute)\n",
        "total_min_count = 5*24*60\n",
        "request_per_min = total_request_count//total_min_count\n",
        "print(\"Request_per_min : \",request_per_min)"
      ],
      "metadata": {
        "colab": {
          "base_uri": "https://localhost:8080/"
        },
        "id": "znL7W-Vtysd7",
        "outputId": "0f7a1774-b18c-4cdf-8bba-2f33722c736b"
      },
      "execution_count": null,
      "outputs": [
        {
          "output_type": "stream",
          "name": "stdout",
          "text": [
            "Request_per_min :  17\n"
          ]
        }
      ]
    },
    {
      "cell_type": "markdown",
      "source": [
        "**IP Analysis:**\n"
      ],
      "metadata": {
        "id": "N75zaDgQrJvz"
      }
    },
    {
      "cell_type": "code",
      "source": [
        "# do all IPs perform the same request\n",
        "Ip_with_request_type_count = {}\n",
        "\n",
        "for i in range(len(ip_address)):\n",
        "  if ip_address[i] in Ip_with_request_type_count.keys():\n",
        "    if \"get\" in str(request_list[i]).lower():\n",
        "      if \"GET\" in Ip_with_request_type_count[ip_address[i]].keys():\n",
        "        Ip_with_request_type_count[ip_address[i]]['GET'] += 1\n",
        "      else:\n",
        "        Ip_with_request_type_count[ip_address[i]]['GET'] = 1\n",
        "    elif \"post\" in str(request_list[i]).lower():\n",
        "      if \"POST\" in Ip_with_request_type_count[ip_address[i]].keys():\n",
        "        Ip_with_request_type_count[ip_address[i]]['POST'] += 1\n",
        "      else:\n",
        "        Ip_with_request_type_count[ip_address[i]]['POST'] = 1\n",
        "    else:\n",
        "      if \"HEAD\" in Ip_with_request_type_count[ip_address[i]].keys():\n",
        "        Ip_with_request_type_count[ip_address[i]]['HEAD'] += 1\n",
        "      else:\n",
        "        Ip_with_request_type_count[ip_address[i]]['HEAD'] = 1\n",
        "  else:\n",
        "    Ip_with_request_type_count[ip_address[i]] = {}\n",
        "    if \"get\" in str(request_list[i]).lower():\n",
        "      if \"GET\" in Ip_with_request_type_count[ip_address[i]].keys():\n",
        "        Ip_with_request_type_count[ip_address[i]]['GET'] += 1\n",
        "      else:\n",
        "        Ip_with_request_type_count[ip_address[i]]['GET'] = 1\n",
        "    elif \"post\" in str(request_list[i]).lower():\n",
        "      if \"POST\" in Ip_with_request_type_count[ip_address[i]].keys():\n",
        "        Ip_with_request_type_count[ip_address[i]]['POST'] += 1\n",
        "      else:\n",
        "        Ip_with_request_type_count[ip_address[i]]['POST'] = 1\n",
        "    else:\n",
        "      if \"HEAD\" in Ip_with_request_type_count[ip_address[i]].keys():\n",
        "        Ip_with_request_type_count[ip_address[i]]['HEAD'] += 1\n",
        "      else:\n",
        "        Ip_with_request_type_count[ip_address[i]]['HEAD'] = 1\n",
        "\n",
        "Ip_with_request_type_count"
      ],
      "metadata": {
        "colab": {
          "base_uri": "https://localhost:8080/"
        },
        "id": "eB-uA41V0aA_",
        "outputId": "b156d644-eeb4-4f61-fe72-57f1d3e6fdfa"
      },
      "execution_count": null,
      "outputs": [
        {
          "output_type": "execute_result",
          "data": {
            "text/plain": [
              "{'65.20.79.142': {'GET': 22292, 'POST': 4920, 'HEAD': 6082},\n",
              " '65.20.74.204': {'GET': 44741, 'POST': 8063, 'HEAD': 12111},\n",
              " '65.20.67.138': {'GET': 21092, 'POST': 4063, 'HEAD': 6036}}"
            ]
          },
          "metadata": {},
          "execution_count": 6
        }
      ]
    },
    {
      "cell_type": "code",
      "source": [
        "import numpy as np\n",
        "\n",
        "# Create a dictionary to store the count of referrers for each IP address\n",
        "ip_source_count = {}\n",
        "\n",
        "# Loop through the IP addresses and referrers\n",
        "for i in range(len(ip_address)):\n",
        "    ip = ip_address[i]\n",
        "    referrer = reffer_list[i]\n",
        "\n",
        "    if ip in ip_source_count:\n",
        "        if referrer in ip_source_count[ip]:\n",
        "            ip_source_count[ip][referrer] += 1\n",
        "        else:\n",
        "            ip_source_count[ip][referrer] = 1\n",
        "    else:\n",
        "        ip_source_count[ip] = {referrer: 1}\n",
        "\n",
        "# Create a dictionary to store the top 10 referrers for each IP address\n",
        "top_10_referrers = {}\n",
        "\n",
        "# Loop through the IP addresses and their referrer counts\n",
        "for ip, referrer_count in ip_source_count.items():\n",
        "    # Sort referrers by count in descending order and get the top 10\n",
        "    top_referrers = sorted(referrer_count.items(), key=lambda x: x[1], reverse=True)[:10]\n",
        "    top_10_referrers[ip] = top_referrers\n",
        "\n",
        "# Print the top 10 referrers for each IP address\n",
        "for ip, referrers in top_10_referrers.items():\n",
        "    print(f\"IP Address: {ip}\")\n",
        "    for referrer, count in referrers:\n",
        "        print(f\"  Referrer: {referrer}, Count: {count}\")\n",
        "    print()\n"
      ],
      "metadata": {
        "id": "elKjaMqp0Z2g",
        "colab": {
          "base_uri": "https://localhost:8080/"
        },
        "outputId": "ca4ba354-049c-42f2-a774-1802d80c3369"
      },
      "execution_count": 29,
      "outputs": [
        {
          "output_type": "stream",
          "name": "stdout",
          "text": [
            "IP Address: 65.20.79.142\n",
            "  Referrer: None, Count: 16808\n",
            "  Referrer: https://prophaze.com/, Count: 2691\n",
            "  Referrer: https://prophaze.com/cve/best-practical-request-tracker-up-to-4-2-16-4-4-4-5-0-1-auth-pm-timing-discrepancy/, Count: 1320\n",
            "  Referrer: https://prophaze.com/web-application-firewall/free-ssl-certificate-providers/, Count: 550\n",
            "  Referrer: https://prophaze.com, Count: 351\n",
            "  Referrer: https://prophaze.com:443//wp-login.php, Count: 336\n",
            "  Referrer: https://prophaze.com/learning/components-with-known-vulnerabilities/, Count: 263\n",
            "  Referrer: https://prophaze.com/cve/cve-2023-39213/, Count: 240\n",
            "  Referrer: https://prophaze.com/cve/monstra-cms-3-0-4-page-feature-admin-index-php-cross-site-scripting/, Count: 216\n",
            "  Referrer: https://prophaze.com/solutions/aws-waf/, Count: 182\n",
            "\n",
            "IP Address: 65.20.74.204\n",
            "  Referrer: None, Count: 31808\n",
            "  Referrer: https://prophaze.com/, Count: 5660\n",
            "  Referrer: https://prophaze.com/cve/best-practical-request-tracker-up-to-4-2-16-4-4-4-5-0-1-auth-pm-timing-discrepancy/, Count: 2986\n",
            "  Referrer: https://prophaze.com/web-application-firewall/free-ssl-certificate-providers/, Count: 1014\n",
            "  Referrer: https://prophaze.com, Count: 728\n",
            "  Referrer: https://prophaze.com/web-application-firewall/remote-code-execution-and-unauthorized-access-vulnerabilities-in-libreoffice/, Count: 413\n",
            "  Referrer: https://prophaze.com/cve/monstra-cms-3-0-4-page-feature-admin-index-php-cross-site-scripting/, Count: 393\n",
            "  Referrer: https://prophaze.com:443//wp-login.php, Count: 391\n",
            "  Referrer: https://prophaze.com/free-waf/, Count: 385\n",
            "  Referrer: https://prophaze.com/learning/components-with-known-vulnerabilities/, Count: 380\n",
            "\n",
            "IP Address: 65.20.67.138\n",
            "  Referrer: None, Count: 15634\n",
            "  Referrer: https://prophaze.com/, Count: 2820\n",
            "  Referrer: https://prophaze.com/cve/best-practical-request-tracker-up-to-4-2-16-4-4-4-5-0-1-auth-pm-timing-discrepancy/, Count: 1188\n",
            "  Referrer: https://prophaze.com/web-application-firewall/free-ssl-certificate-providers/, Count: 382\n",
            "  Referrer: https://prophaze.com, Count: 373\n",
            "  Referrer: https://prophaze.com/learning/components-with-known-vulnerabilities/, Count: 294\n",
            "  Referrer: https://prophaze.com/cve/monstra-cms-3-0-4-page-feature-admin-index-php-cross-site-scripting/, Count: 265\n",
            "  Referrer: https://prophaze.com/solutions/aws-waf/, Count: 216\n",
            "  Referrer: https://prophaze.com/free-waf/, Count: 187\n",
            "  Referrer: https://prophaze.com/web-application-firewall/remote-code-execution-and-unauthorized-access-vulnerabilities-in-libreoffice/, Count: 167\n",
            "\n"
          ]
        }
      ]
    },
    {
      "cell_type": "markdown",
      "source": [
        "**Request Analysis:**\n",
        "\n",
        "\n",
        "Analyze the status codes to understand the distribution of successful and unsuccessful requests."
      ],
      "metadata": {
        "id": "zGzT8BuLrzup"
      }
    },
    {
      "cell_type": "code",
      "source": [
        "status_information = {\n",
        "    \"successful\": 0,\n",
        "    \"unsuccessful\" : 0\n",
        "}\n",
        "\n",
        "for i in status_list:\n",
        "  if i >= 200 and i < 300:\n",
        "    status_information['successful'] += 1\n",
        "  else:\n",
        "    status_information['unsuccessful'] += 1\n",
        "\n",
        "status_information"
      ],
      "metadata": {
        "colab": {
          "base_uri": "https://localhost:8080/"
        },
        "id": "GSJODH5D0Zqf",
        "outputId": "42266410-5d5c-4cad-ab08-4bd2450b6fd2"
      },
      "execution_count": null,
      "outputs": [
        {
          "output_type": "execute_result",
          "data": {
            "text/plain": [
              "{'successful': 94265, 'unsuccessful': 35135}"
            ]
          },
          "metadata": {},
          "execution_count": 9
        }
      ]
    },
    {
      "cell_type": "markdown",
      "source": [
        "**Referrer Analysis:**\n",
        "\n",
        "\n",
        "Count the frequency of different referrers to identify sources of traffic.\n",
        "\n",
        "Determine if there is a significant portion of requests with no referrer."
      ],
      "metadata": {
        "id": "MzyFgliVrhFR"
      }
    },
    {
      "cell_type": "code",
      "source": [
        "reffer_count = {}\n",
        "threshold = 200\n",
        "popular_reffer_count = []\n",
        "for i in reffer_list:\n",
        "    if i in reffer_count.keys():\n",
        "        reffer_count[i] += 1\n",
        "        if reffer_count[i] == threshold:\n",
        "            popular_reffer_count.append(i)\n",
        "    else:\n",
        "        reffer_count[i] = 1\n",
        "\n",
        "def sort_dict_by_value(d, reverse=False):\n",
        "    return dict(sorted(d.items(), key=lambda x: x[1], reverse=reverse))\n",
        "\n",
        "reffer_count = sort_dict_by_value(reffer_count, True)\n",
        "\n",
        "# Get the top 10 referrers\n",
        "top_10_reffer = list(reffer_count.keys())[:10]\n",
        "\n",
        "# Print the top 10 referrers along with their counts\n",
        "for referrer in top_10_reffer:\n",
        "    count = reffer_count[referrer]\n",
        "    print(f\"Referrer: {referrer}, Count: {count}\")\n"
      ],
      "metadata": {
        "colab": {
          "base_uri": "https://localhost:8080/"
        },
        "id": "5aWf6gkv0ZuC",
        "outputId": "1a35b739-1c04-4eb7-c710-240ee4e58681"
      },
      "execution_count": 20,
      "outputs": [
        {
          "output_type": "stream",
          "name": "stdout",
          "text": [
            "Referrer: None, Count: 64250\n",
            "Referrer: https://prophaze.com/, Count: 11171\n",
            "Referrer: https://prophaze.com/cve/best-practical-request-tracker-up-to-4-2-16-4-4-4-5-0-1-auth-pm-timing-discrepancy/, Count: 5494\n",
            "Referrer: https://prophaze.com/web-application-firewall/free-ssl-certificate-providers/, Count: 1946\n",
            "Referrer: https://prophaze.com, Count: 1452\n",
            "Referrer: https://prophaze.com/learning/components-with-known-vulnerabilities/, Count: 937\n",
            "Referrer: https://prophaze.com/cve/monstra-cms-3-0-4-page-feature-admin-index-php-cross-site-scripting/, Count: 874\n",
            "Referrer: https://prophaze.com/solutions/aws-waf/, Count: 774\n",
            "Referrer: https://prophaze.com/cve/cve-2023-39213/, Count: 757\n",
            "Referrer: https://prophaze.com/free-waf/, Count: 754\n"
          ]
        }
      ]
    },
    {
      "cell_type": "markdown",
      "source": [
        "\n",
        "**User-Agent Analysis:**\n",
        "\n",
        "Count the frequency of different user agents to understand the distribution of devices and browsers."
      ],
      "metadata": {
        "id": "u0PohcCcs-1V"
      }
    },
    {
      "cell_type": "code",
      "source": [
        "unique_devices = set()\n",
        "unique_browsers = set()\n",
        "\n",
        "for user_agent in user_agent_list:\n",
        "    # Extract device information\n",
        "    device_match = re.search(r'\\(([^;]+);[^\\)]+\\)', user_agent)\n",
        "    if device_match:\n",
        "        unique_devices.add(device_match.group(1).strip())\n",
        "\n",
        "    # Extract browser information\n",
        "    browser_match = re.search(r' ([a-zA-Z]+)/\\d+', user_agent)\n",
        "    if browser_match:\n",
        "        unique_browsers.add(browser_match.group(1))\n",
        "\n",
        "print(\"Unique Devices:\", unique_devices)\n",
        "print()\n",
        "print(\"Unique Browsers:\", unique_browsers)"
      ],
      "metadata": {
        "colab": {
          "base_uri": "https://localhost:8080/"
        },
        "id": "2bMbbR770Znd",
        "outputId": "8d73c290-5f49-4131-b592-09f7c58362d7"
      },
      "execution_count": 23,
      "outputs": [
        {
          "output_type": "stream",
          "name": "stdout",
          "text": [
            "Unique Devices: {'Windows NT 6.0', 'Linux x86_64', 'Windows NT 6.1', 'Android 4.0.4', 'Macintosh', 'Windows NT 10.0\\\\', 'Android 13', 'Windows NT 10.0', 'Windows NT 10.0.0', 'Windows NT 6.3', 'Windows NT 5.1', 'Windows NT 7.5', 'Android 11', 'iPhone', 'KHTML, like Gecko', 'Windows NT 8_0_1', 'Windows', '/global', 'X11', 'iPad', 'webOS/1.4.5', 'iPhone Simulator', 'iPod', 'Windows NT 8.1', 'https://notion.so', 'compatible', '+https://awario.com/bots.html', 'Windows NT 6.2', 'iPod touch', 'Linux'}\n",
            "\n",
            "Unique Browsers: {'CensysInspect', 'zgrab', 'DotBot', 'InternetMeasurement', 'YandexImages', 'spider', 'YaK', 'CFNetwork', 'Cincraw', 'linkdexbot', 'Trident', 'BLEXBot', 'Konturbot', 'Baiduspider', 'Daum', 'Chrome', 'Spider', 'NetcraftSurveyAgent', 'Googlebot', 'AwarioBot', 'MojeekBot', 'Gecko', 'DataForSeoBot', 'UptimeRobot', 'adidxbot', 'aiohttp', 'YandexRenderResourcesBot', 'Firefox', 'Semanticbot', 'Fetcher', 'BOLT', 'SerpReputationManagementAgent', 'SeznamBot', 'YandexFavicons', 'SiteAuditBot', 'Pinterestbot', 'OpenSSL', 'Presto', 'AppleWebKit', 'SemrushBot', 'Preview', 'Mozilla', 'LocalBot', 'GrapeshotCrawler', 'YandexBot', 'AhrefsSiteAudit', 'Crawler', 'MultiZilla', 'VelenPublicWebCrawler', 'AhrefsBot'}\n"
          ]
        }
      ]
    },
    {
      "cell_type": "markdown",
      "source": [
        "Identify the most common user agents and their associated devices/browsers."
      ],
      "metadata": {
        "id": "Cxa_c3d2tP_M"
      }
    },
    {
      "cell_type": "code",
      "source": [
        "device_counter = Counter()\n",
        "browser_counter = Counter()\n",
        "\n",
        "for user_agent in user_agent_list:\n",
        "    # Extract device information\n",
        "    device_match = re.search(r'\\(([^;]+);[^\\)]+\\)', user_agent)\n",
        "    if device_match:\n",
        "        device = device_match.group(1).strip()\n",
        "        device_counter[device] += 1\n",
        "\n",
        "    # Extract browser information\n",
        "    browser_match = re.search(r' ([a-zA-Z]+)/\\d+', user_agent)\n",
        "    if browser_match:\n",
        "        browser = browser_match.group(1)\n",
        "        browser_counter[browser] += 1\n",
        "\n",
        "# Get top frequent devices and browsers\n",
        "top_devices = device_counter.most_common(10)\n",
        "top_browsers = browser_counter.most_common(10)\n",
        "\n",
        "print(\"Top Frequent Devices:\")\n",
        "print()\n",
        "for device, count in top_devices:\n",
        "    print(f\"{device}: {count}\")\n",
        "\n",
        "print(\"\\nTop Frequent Browsers:\")\n",
        "print()\n",
        "for browser, count in top_browsers:\n",
        "    print(f\"{browser}: {count}\")\n"
      ],
      "metadata": {
        "colab": {
          "base_uri": "https://localhost:8080/"
        },
        "id": "yIkpPAzr0Zkk",
        "outputId": "733df6a2-c8d8-4336-bb3e-631bc53de671"
      },
      "execution_count": 30,
      "outputs": [
        {
          "output_type": "stream",
          "name": "stdout",
          "text": [
            "Top Frequent Devices:\n",
            "\n",
            "Windows NT 10.0: 46796\n",
            "compatible: 16301\n",
            "Linux: 10806\n",
            "X11: 9153\n",
            "Macintosh: 6982\n",
            "iPhone: 2629\n",
            "KHTML, like Gecko: 2388\n",
            "Windows NT 6.1: 1710\n",
            "+https://awario.com/bots.html: 1253\n",
            "Windows NT 6.3: 733\n",
            "\n",
            "Top Frequent Browsers:\n",
            "\n",
            "AppleWebKit: 69945\n",
            "Gecko: 12600\n",
            "VelenPublicWebCrawler: 4868\n",
            "UptimeRobot: 2894\n",
            "DotBot: 2624\n",
            "YandexBot: 1309\n",
            "YandexRenderResourcesBot: 1071\n",
            "Googlebot: 806\n",
            "AhrefsBot: 520\n",
            "Trident: 271\n"
          ]
        }
      ]
    },
    {
      "cell_type": "markdown",
      "source": [
        "**Temporal Patterns:**\n",
        "\n",
        "Analyze the timestamp data to identify peak traffic times and periods of low activity.\n",
        "\n",
        " Calculate average request rates per hour"
      ],
      "metadata": {
        "id": "evQHxCKBtg-H"
      }
    },
    {
      "cell_type": "code",
      "source": [
        "# Request Occur in Every Hour\n",
        "total_request_count = 0\n",
        "requests_per_hour = Counter()\n",
        "for timestamp_str in timevalue_list:\n",
        "    timestamp_str = timestamp_str.split('+')[0]\n",
        "    timestamp_str = timestamp_str.split('.')[0]\n",
        "    timestamp = datetime.strptime(timestamp_str, \"%Y-%m-%d %H:%M:%S\")\n",
        "    hour = timestamp.strftime(\"%Y-%m-%d %H\")\n",
        "    requests_per_hour[hour] += 1\n",
        "requests_per_hour = sorted(requests_per_hour.items(), key=lambda x: x[1], reverse=True)\n",
        "for hour, count in requests_per_hour:\n",
        "    # print(f\"Hour: {hour}, Requests: {count}\")\n",
        "    total_request_count += count\n",
        "# requests_per_hour = sorted(requests_per_hour)\n",
        "# requests_per_hour\n",
        "total_hour_count = 5*24\n",
        "request_per_hour = total_request_count//total_hour_count\n",
        "print(\"Request_per_hour : \",request_per_hour)\n",
        "print()\n",
        "# Identify peak and low traffic hours\n",
        "peak_hours = requests_per_hour[:5]  # Get the top 5 hours with the highest request counts\n",
        "low_hours = requests_per_hour[-5:]  # Get the 5 hours with the lowest request counts\n",
        "\n",
        "print(\"Peak Traffic Hours:\")\n",
        "print()\n",
        "for hour, count in peak_hours:\n",
        "    print(f\"Hour: {hour}, Requests: {count}\")\n",
        "\n",
        "print(\"\\nLow Traffic Hours:\")\n",
        "print()\n",
        "for hour, count in low_hours:\n",
        "    print(f\"Hour: {hour}, Requests: {count}\")\n"
      ],
      "metadata": {
        "colab": {
          "base_uri": "https://localhost:8080/"
        },
        "id": "sFExRMyv0ZiU",
        "outputId": "237c94bb-2e67-4807-dbee-c7d3fe46e7bb"
      },
      "execution_count": 31,
      "outputs": [
        {
          "output_type": "stream",
          "name": "stdout",
          "text": [
            "Request_per_hour :  1078\n",
            "\n",
            "Peak Traffic Hours:\n",
            "\n",
            "Hour: 2023-08-11 04, Requests: 21971\n",
            "Hour: 2023-08-15 13, Requests: 2668\n",
            "Hour: 2023-08-11 17, Requests: 2227\n",
            "Hour: 2023-08-14 13, Requests: 2137\n",
            "Hour: 2023-08-13 16, Requests: 1700\n",
            "\n",
            "Low Traffic Hours:\n",
            "\n",
            "Hour: 2023-08-12 03, Requests: 379\n",
            "Hour: 2023-08-12 21, Requests: 376\n",
            "Hour: 2023-08-15 02, Requests: 354\n",
            "Hour: 2023-08-15 09, Requests: 331\n",
            "Hour: 2023-08-14 02, Requests: 273\n"
          ]
        }
      ]
    },
    {
      "cell_type": "markdown",
      "source": [
        "**Geolocation:**\n",
        "\n",
        "Use IP geolocation services to determine the geographical distribution of the requests"
      ],
      "metadata": {
        "id": "5cNS434Wt5A_"
      }
    },
    {
      "cell_type": "code",
      "source": [
        "# IP address to geolocate\n",
        "ip_address_set = set(ip_address)\n",
        "ip_info_obj ={}\n",
        "\n",
        "for i in ip_address_set:\n",
        "  # Make a GET request to the ipinfo.io API\n",
        "  response = requests.get(f\"https://ipinfo.io/{i}/json\")\n",
        "\n",
        "  # Check if the request was successful\n",
        "  if response.status_code == 200:\n",
        "      # Parse the JSON response\n",
        "      ip_info = response.json()\n",
        "      ip_info_obj[i]= {}\n",
        "      # Extract relevant information (e.g., city, region, country)\n",
        "      ip_info_obj[i]['city'] = ip_info.get(\"city\", \"N/A\")\n",
        "      ip_info_obj[i]['region'] = ip_info.get(\"region\", \"N/A\")\n",
        "      ip_info_obj[i]['country'] = ip_info.get(\"country\", \"N/A\")\n",
        "      ip_info_obj[i]['org'] = ip_info.get(\"org\", \"N/A\")\n",
        "      # Print the geolocation information\n",
        "      # print(f\"IP Address: {ip_address}\")\n",
        "      # print(f\"City: {city}\")\n",
        "      # print(f\"Region: {region}\")\n",
        "      # print(f\"Country: {country}\")\n",
        "      # print(f\"Organization: {org}\")\n",
        "  else:\n",
        "      print(f\"Failed to retrieve geolocation data for IP: {i}\")\n",
        "\n",
        "ip_info_obj"
      ],
      "metadata": {
        "colab": {
          "base_uri": "https://localhost:8080/"
        },
        "id": "1V0YJaAL0ZgR",
        "outputId": "3525950a-d830-4d1b-e498-59984843bfad"
      },
      "execution_count": null,
      "outputs": [
        {
          "output_type": "execute_result",
          "data": {
            "text/plain": [
              "{'65.20.67.138': {'city': 'Mumbai',\n",
              "  'region': 'Maharashtra',\n",
              "  'country': 'IN',\n",
              "  'org': 'AS20473 The Constant Company, LLC'},\n",
              " '65.20.79.142': {'city': 'Mumbai',\n",
              "  'region': 'Maharashtra',\n",
              "  'country': 'IN',\n",
              "  'org': 'AS20473 The Constant Company, LLC'},\n",
              " '65.20.74.204': {'city': 'Mumbai',\n",
              "  'region': 'Maharashtra',\n",
              "  'country': 'IN',\n",
              "  'org': 'AS20473 The Constant Company, LLC'}}"
            ]
          },
          "metadata": {},
          "execution_count": 16
        }
      ]
    }
  ]
}
